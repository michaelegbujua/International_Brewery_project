{
 "cells": [
  {
   "cell_type": "markdown",
   "id": "6e2f876f",
   "metadata": {},
   "source": [
    "From the international breweries data recorded for a duration of three years, you are\n",
    "directed to do the following analyses to aid better decision making in order to maximize\n",
    "profit and reduce loss to the lowest minimum.\n",
    "Session A\n",
    "\n",
    "PROFIT ANALYSIS\n",
    "\n",
    "1. Within the space of the last three years, what was the profit worth of the breweries,\n",
    "inclusive of the anglophone and the francophone territories?\n",
    "2. Compare the total profit between these two territories in order for the territory manager,\n",
    "Mr. Stone made a strategic decision that will aid profit maximization in 2020.\n",
    "3. Country that generated the highest profit in 2019\n",
    "4. Help him find the year with the highest profit.\n",
    "5. Which month in the three years was the least profit generated?\n",
    "6. What was the minimum profit in the month of December 2018?\n",
    "7. Compare the profit in percentage for each of the month in 2019\n",
    "8. Which particular brand generated the highest profit in Senegal?"
   ]
  },
  {
   "cell_type": "code",
   "execution_count": 1,
   "id": "80945662",
   "metadata": {},
   "outputs": [],
   "source": [
    "#importing libraries for the analysis\n",
    "import pandas as pd\n",
    "import numpy as np"
   ]
  },
  {
   "cell_type": "code",
   "execution_count": 2,
   "id": "abaa143c",
   "metadata": {},
   "outputs": [],
   "source": [
    "#reading the data from a csv file\n",
    "df = pd.read_csv(\"C:\\Mike_stuff\\International_brewery\\International_Breweries.csv\")"
   ]
  },
  {
   "cell_type": "code",
   "execution_count": 3,
   "id": "a79759a1",
   "metadata": {},
   "outputs": [
    {
     "data": {
      "text/html": [
       "<div>\n",
       "<style scoped>\n",
       "    .dataframe tbody tr th:only-of-type {\n",
       "        vertical-align: middle;\n",
       "    }\n",
       "\n",
       "    .dataframe tbody tr th {\n",
       "        vertical-align: top;\n",
       "    }\n",
       "\n",
       "    .dataframe thead th {\n",
       "        text-align: right;\n",
       "    }\n",
       "</style>\n",
       "<table border=\"1\" class=\"dataframe\">\n",
       "  <thead>\n",
       "    <tr style=\"text-align: right;\">\n",
       "      <th></th>\n",
       "      <th>SALES_ID</th>\n",
       "      <th>SALES_REP</th>\n",
       "      <th>EMAILS</th>\n",
       "      <th>BRANDS</th>\n",
       "      <th>PLANT_COST</th>\n",
       "      <th>UNIT_PRICE</th>\n",
       "      <th>QUANTITY</th>\n",
       "      <th>COST</th>\n",
       "      <th>PROFIT</th>\n",
       "      <th>COUNTRIES</th>\n",
       "      <th>REGION</th>\n",
       "      <th>MONTHS</th>\n",
       "      <th>YEARS</th>\n",
       "    </tr>\n",
       "  </thead>\n",
       "  <tbody>\n",
       "    <tr>\n",
       "      <th>0</th>\n",
       "      <td>10101</td>\n",
       "      <td>Jardine</td>\n",
       "      <td>jard@gmail.com</td>\n",
       "      <td>trophy</td>\n",
       "      <td>150</td>\n",
       "      <td>200</td>\n",
       "      <td>725</td>\n",
       "      <td>145000</td>\n",
       "      <td>36250</td>\n",
       "      <td>Ghana</td>\n",
       "      <td>Southeast</td>\n",
       "      <td>January</td>\n",
       "      <td>2019</td>\n",
       "    </tr>\n",
       "    <tr>\n",
       "      <th>1</th>\n",
       "      <td>10102</td>\n",
       "      <td>Gill</td>\n",
       "      <td>gillhell@uk.com</td>\n",
       "      <td>budweiser</td>\n",
       "      <td>250</td>\n",
       "      <td>500</td>\n",
       "      <td>815</td>\n",
       "      <td>407500</td>\n",
       "      <td>203750</td>\n",
       "      <td>Nigeria</td>\n",
       "      <td>west</td>\n",
       "      <td>February</td>\n",
       "      <td>2018</td>\n",
       "    </tr>\n",
       "    <tr>\n",
       "      <th>2</th>\n",
       "      <td>10103</td>\n",
       "      <td>Sorvino</td>\n",
       "      <td>sorvi2000@gmail.com</td>\n",
       "      <td>castle lite</td>\n",
       "      <td>180</td>\n",
       "      <td>450</td>\n",
       "      <td>937</td>\n",
       "      <td>421650</td>\n",
       "      <td>252990</td>\n",
       "      <td>Togo</td>\n",
       "      <td>southsouth</td>\n",
       "      <td>March</td>\n",
       "      <td>2018</td>\n",
       "    </tr>\n",
       "    <tr>\n",
       "      <th>3</th>\n",
       "      <td>10104</td>\n",
       "      <td>Jones</td>\n",
       "      <td>jone.ai@yahoo.com</td>\n",
       "      <td>eagle lager</td>\n",
       "      <td>170</td>\n",
       "      <td>250</td>\n",
       "      <td>765</td>\n",
       "      <td>191250</td>\n",
       "      <td>61200</td>\n",
       "      <td>Benin</td>\n",
       "      <td>northwest</td>\n",
       "      <td>April</td>\n",
       "      <td>2018</td>\n",
       "    </tr>\n",
       "    <tr>\n",
       "      <th>4</th>\n",
       "      <td>10105</td>\n",
       "      <td>Andrews</td>\n",
       "      <td>andy@gmail.com</td>\n",
       "      <td>hero</td>\n",
       "      <td>150</td>\n",
       "      <td>200</td>\n",
       "      <td>836</td>\n",
       "      <td>167200</td>\n",
       "      <td>41800</td>\n",
       "      <td>Senegal</td>\n",
       "      <td>northeast</td>\n",
       "      <td>May</td>\n",
       "      <td>2017</td>\n",
       "    </tr>\n",
       "    <tr>\n",
       "      <th>...</th>\n",
       "      <td>...</td>\n",
       "      <td>...</td>\n",
       "      <td>...</td>\n",
       "      <td>...</td>\n",
       "      <td>...</td>\n",
       "      <td>...</td>\n",
       "      <td>...</td>\n",
       "      <td>...</td>\n",
       "      <td>...</td>\n",
       "      <td>...</td>\n",
       "      <td>...</td>\n",
       "      <td>...</td>\n",
       "      <td>...</td>\n",
       "    </tr>\n",
       "    <tr>\n",
       "      <th>1042</th>\n",
       "      <td>11143</td>\n",
       "      <td>Jardine</td>\n",
       "      <td>jard@gmail.com</td>\n",
       "      <td>grand malt</td>\n",
       "      <td>90</td>\n",
       "      <td>150</td>\n",
       "      <td>962</td>\n",
       "      <td>144300</td>\n",
       "      <td>57720</td>\n",
       "      <td>Togo</td>\n",
       "      <td>northeast</td>\n",
       "      <td>November</td>\n",
       "      <td>2017</td>\n",
       "    </tr>\n",
       "    <tr>\n",
       "      <th>1043</th>\n",
       "      <td>11144</td>\n",
       "      <td>Jardine</td>\n",
       "      <td>jard@gmail.com</td>\n",
       "      <td>trophy</td>\n",
       "      <td>150</td>\n",
       "      <td>200</td>\n",
       "      <td>892</td>\n",
       "      <td>178400</td>\n",
       "      <td>44600</td>\n",
       "      <td>Benin</td>\n",
       "      <td>northcentral</td>\n",
       "      <td>December</td>\n",
       "      <td>2017</td>\n",
       "    </tr>\n",
       "    <tr>\n",
       "      <th>1044</th>\n",
       "      <td>11145</td>\n",
       "      <td>Andrews</td>\n",
       "      <td>andy@gmail.com</td>\n",
       "      <td>budweiser</td>\n",
       "      <td>250</td>\n",
       "      <td>500</td>\n",
       "      <td>816</td>\n",
       "      <td>408000</td>\n",
       "      <td>204000</td>\n",
       "      <td>Senegal</td>\n",
       "      <td>Southeast</td>\n",
       "      <td>January</td>\n",
       "      <td>2019</td>\n",
       "    </tr>\n",
       "    <tr>\n",
       "      <th>1045</th>\n",
       "      <td>11146</td>\n",
       "      <td>Jones</td>\n",
       "      <td>jone.ai@yahoo.com</td>\n",
       "      <td>castle lite</td>\n",
       "      <td>180</td>\n",
       "      <td>450</td>\n",
       "      <td>939</td>\n",
       "      <td>422550</td>\n",
       "      <td>253530</td>\n",
       "      <td>Ghana</td>\n",
       "      <td>west</td>\n",
       "      <td>February</td>\n",
       "      <td>2017</td>\n",
       "    </tr>\n",
       "    <tr>\n",
       "      <th>1046</th>\n",
       "      <td>11147</td>\n",
       "      <td>Morgan</td>\n",
       "      <td>morganny@gmail.com</td>\n",
       "      <td>eagle lager</td>\n",
       "      <td>170</td>\n",
       "      <td>250</td>\n",
       "      <td>935</td>\n",
       "      <td>233750</td>\n",
       "      <td>74800</td>\n",
       "      <td>Nigeria</td>\n",
       "      <td>southsouth</td>\n",
       "      <td>March</td>\n",
       "      <td>2019</td>\n",
       "    </tr>\n",
       "  </tbody>\n",
       "</table>\n",
       "<p>1047 rows × 13 columns</p>\n",
       "</div>"
      ],
      "text/plain": [
       "      SALES_ID SALES_REP               EMAILS       BRANDS  PLANT_COST  \\\n",
       "0        10101   Jardine       jard@gmail.com       trophy         150   \n",
       "1        10102      Gill      gillhell@uk.com    budweiser         250   \n",
       "2        10103   Sorvino  sorvi2000@gmail.com  castle lite         180   \n",
       "3        10104     Jones    jone.ai@yahoo.com  eagle lager         170   \n",
       "4        10105   Andrews       andy@gmail.com         hero         150   \n",
       "...        ...       ...                  ...          ...         ...   \n",
       "1042     11143   Jardine       jard@gmail.com   grand malt          90   \n",
       "1043     11144   Jardine       jard@gmail.com       trophy         150   \n",
       "1044     11145   Andrews       andy@gmail.com    budweiser         250   \n",
       "1045     11146     Jones    jone.ai@yahoo.com  castle lite         180   \n",
       "1046     11147    Morgan   morganny@gmail.com  eagle lager         170   \n",
       "\n",
       "      UNIT_PRICE  QUANTITY    COST  PROFIT COUNTRIES        REGION     MONTHS  \\\n",
       "0            200       725  145000   36250     Ghana      Southeast   January   \n",
       "1            500       815  407500  203750   Nigeria           west  February   \n",
       "2            450       937  421650  252990      Togo     southsouth     March   \n",
       "3            250       765  191250   61200     Benin      northwest     April   \n",
       "4            200       836  167200   41800   Senegal     northeast        May   \n",
       "...          ...       ...     ...     ...       ...            ...       ...   \n",
       "1042         150       962  144300   57720      Togo     northeast   November   \n",
       "1043         200       892  178400   44600     Benin  northcentral   December   \n",
       "1044         500       816  408000  204000   Senegal      Southeast   January   \n",
       "1045         450       939  422550  253530     Ghana           west  February   \n",
       "1046         250       935  233750   74800   Nigeria     southsouth     March   \n",
       "\n",
       "      YEARS  \n",
       "0      2019  \n",
       "1      2018  \n",
       "2      2018  \n",
       "3      2018  \n",
       "4      2017  \n",
       "...     ...  \n",
       "1042   2017  \n",
       "1043   2017  \n",
       "1044   2019  \n",
       "1045   2017  \n",
       "1046   2019  \n",
       "\n",
       "[1047 rows x 13 columns]"
      ]
     },
     "execution_count": 3,
     "metadata": {},
     "output_type": "execute_result"
    }
   ],
   "source": [
    "#display the data frame\n",
    "df"
   ]
  },
  {
   "cell_type": "code",
   "execution_count": 4,
   "id": "5d16e3bd",
   "metadata": {},
   "outputs": [
    {
     "name": "stdout",
     "output_type": "stream",
     "text": [
      "<class 'pandas.core.frame.DataFrame'>\n",
      "RangeIndex: 1047 entries, 0 to 1046\n",
      "Data columns (total 13 columns):\n",
      " #   Column      Non-Null Count  Dtype \n",
      "---  ------      --------------  ----- \n",
      " 0   SALES_ID    1047 non-null   int64 \n",
      " 1   SALES_REP   1047 non-null   object\n",
      " 2   EMAILS      1047 non-null   object\n",
      " 3   BRANDS      1047 non-null   object\n",
      " 4   PLANT_COST  1047 non-null   int64 \n",
      " 5   UNIT_PRICE  1047 non-null   int64 \n",
      " 6   QUANTITY    1047 non-null   int64 \n",
      " 7   COST        1047 non-null   int64 \n",
      " 8   PROFIT      1047 non-null   int64 \n",
      " 9   COUNTRIES   1047 non-null   object\n",
      " 10  REGION      1047 non-null   object\n",
      " 11  MONTHS      1047 non-null   object\n",
      " 12  YEARS       1047 non-null   int64 \n",
      "dtypes: int64(7), object(6)\n",
      "memory usage: 106.5+ KB\n"
     ]
    }
   ],
   "source": [
    "#display information about the data\n",
    "df.info()"
   ]
  },
  {
   "cell_type": "code",
   "execution_count": 5,
   "id": "5d6ec547",
   "metadata": {},
   "outputs": [
    {
     "data": {
      "text/html": [
       "<div>\n",
       "<style scoped>\n",
       "    .dataframe tbody tr th:only-of-type {\n",
       "        vertical-align: middle;\n",
       "    }\n",
       "\n",
       "    .dataframe tbody tr th {\n",
       "        vertical-align: top;\n",
       "    }\n",
       "\n",
       "    .dataframe thead th {\n",
       "        text-align: right;\n",
       "    }\n",
       "</style>\n",
       "<table border=\"1\" class=\"dataframe\">\n",
       "  <thead>\n",
       "    <tr style=\"text-align: right;\">\n",
       "      <th></th>\n",
       "      <th>SALES_ID</th>\n",
       "      <th>PLANT_COST</th>\n",
       "      <th>UNIT_PRICE</th>\n",
       "      <th>QUANTITY</th>\n",
       "      <th>COST</th>\n",
       "      <th>PROFIT</th>\n",
       "      <th>YEARS</th>\n",
       "    </tr>\n",
       "  </thead>\n",
       "  <tbody>\n",
       "    <tr>\n",
       "      <th>count</th>\n",
       "      <td>1047.000000</td>\n",
       "      <td>1047.000000</td>\n",
       "      <td>1047.000000</td>\n",
       "      <td>1047.000000</td>\n",
       "      <td>1047.000000</td>\n",
       "      <td>1047.000000</td>\n",
       "      <td>1047.000000</td>\n",
       "    </tr>\n",
       "    <tr>\n",
       "      <th>mean</th>\n",
       "      <td>10624.000000</td>\n",
       "      <td>152.989494</td>\n",
       "      <td>271.728749</td>\n",
       "      <td>850.737345</td>\n",
       "      <td>231034.049666</td>\n",
       "      <td>100847.583572</td>\n",
       "      <td>2017.941738</td>\n",
       "    </tr>\n",
       "    <tr>\n",
       "      <th>std</th>\n",
       "      <td>302.387169</td>\n",
       "      <td>53.125477</td>\n",
       "      <td>133.378553</td>\n",
       "      <td>86.991652</td>\n",
       "      <td>115658.626612</td>\n",
       "      <td>77581.775930</td>\n",
       "      <td>0.808325</td>\n",
       "    </tr>\n",
       "    <tr>\n",
       "      <th>min</th>\n",
       "      <td>10101.000000</td>\n",
       "      <td>80.000000</td>\n",
       "      <td>150.000000</td>\n",
       "      <td>700.000000</td>\n",
       "      <td>105300.000000</td>\n",
       "      <td>35000.000000</td>\n",
       "      <td>2017.000000</td>\n",
       "    </tr>\n",
       "    <tr>\n",
       "      <th>25%</th>\n",
       "      <td>10362.500000</td>\n",
       "      <td>90.000000</td>\n",
       "      <td>150.000000</td>\n",
       "      <td>776.000000</td>\n",
       "      <td>141425.000000</td>\n",
       "      <td>46880.000000</td>\n",
       "      <td>2017.000000</td>\n",
       "    </tr>\n",
       "    <tr>\n",
       "      <th>50%</th>\n",
       "      <td>10624.000000</td>\n",
       "      <td>150.000000</td>\n",
       "      <td>200.000000</td>\n",
       "      <td>853.000000</td>\n",
       "      <td>184400.000000</td>\n",
       "      <td>58080.000000</td>\n",
       "      <td>2018.000000</td>\n",
       "    </tr>\n",
       "    <tr>\n",
       "      <th>75%</th>\n",
       "      <td>10885.500000</td>\n",
       "      <td>180.000000</td>\n",
       "      <td>450.000000</td>\n",
       "      <td>927.000000</td>\n",
       "      <td>351450.000000</td>\n",
       "      <td>191205.000000</td>\n",
       "      <td>2019.000000</td>\n",
       "    </tr>\n",
       "    <tr>\n",
       "      <th>max</th>\n",
       "      <td>11147.000000</td>\n",
       "      <td>250.000000</td>\n",
       "      <td>500.000000</td>\n",
       "      <td>1000.000000</td>\n",
       "      <td>499500.000000</td>\n",
       "      <td>269190.000000</td>\n",
       "      <td>2019.000000</td>\n",
       "    </tr>\n",
       "  </tbody>\n",
       "</table>\n",
       "</div>"
      ],
      "text/plain": [
       "           SALES_ID   PLANT_COST   UNIT_PRICE     QUANTITY           COST  \\\n",
       "count   1047.000000  1047.000000  1047.000000  1047.000000    1047.000000   \n",
       "mean   10624.000000   152.989494   271.728749   850.737345  231034.049666   \n",
       "std      302.387169    53.125477   133.378553    86.991652  115658.626612   \n",
       "min    10101.000000    80.000000   150.000000   700.000000  105300.000000   \n",
       "25%    10362.500000    90.000000   150.000000   776.000000  141425.000000   \n",
       "50%    10624.000000   150.000000   200.000000   853.000000  184400.000000   \n",
       "75%    10885.500000   180.000000   450.000000   927.000000  351450.000000   \n",
       "max    11147.000000   250.000000   500.000000  1000.000000  499500.000000   \n",
       "\n",
       "              PROFIT        YEARS  \n",
       "count    1047.000000  1047.000000  \n",
       "mean   100847.583572  2017.941738  \n",
       "std     77581.775930     0.808325  \n",
       "min     35000.000000  2017.000000  \n",
       "25%     46880.000000  2017.000000  \n",
       "50%     58080.000000  2018.000000  \n",
       "75%    191205.000000  2019.000000  \n",
       "max    269190.000000  2019.000000  "
      ]
     },
     "execution_count": 5,
     "metadata": {},
     "output_type": "execute_result"
    }
   ],
   "source": [
    "#get some of the measures of central tendencies and dispersions\n",
    "df.describe()"
   ]
  },
  {
   "cell_type": "code",
   "execution_count": 6,
   "id": "8fd090ff",
   "metadata": {},
   "outputs": [
    {
     "data": {
      "text/plain": [
       "SALES_ID      0\n",
       "SALES_REP     0\n",
       "EMAILS        0\n",
       "BRANDS        0\n",
       "PLANT_COST    0\n",
       "UNIT_PRICE    0\n",
       "QUANTITY      0\n",
       "COST          0\n",
       "PROFIT        0\n",
       "COUNTRIES     0\n",
       "REGION        0\n",
       "MONTHS        0\n",
       "YEARS         0\n",
       "dtype: int64"
      ]
     },
     "execution_count": 6,
     "metadata": {},
     "output_type": "execute_result"
    }
   ],
   "source": [
    "#check if there are null values/empty rows\n",
    "df.isnull().sum()"
   ]
  },
  {
   "cell_type": "code",
   "execution_count": 7,
   "id": "e5a253dc",
   "metadata": {},
   "outputs": [
    {
     "data": {
      "text/html": [
       "<div>\n",
       "<style scoped>\n",
       "    .dataframe tbody tr th:only-of-type {\n",
       "        vertical-align: middle;\n",
       "    }\n",
       "\n",
       "    .dataframe tbody tr th {\n",
       "        vertical-align: top;\n",
       "    }\n",
       "\n",
       "    .dataframe thead th {\n",
       "        text-align: right;\n",
       "    }\n",
       "</style>\n",
       "<table border=\"1\" class=\"dataframe\">\n",
       "  <thead>\n",
       "    <tr style=\"text-align: right;\">\n",
       "      <th></th>\n",
       "      <th>SALES_ID</th>\n",
       "      <th>SALES_REP</th>\n",
       "      <th>EMAILS</th>\n",
       "      <th>BRANDS</th>\n",
       "      <th>PLANT_COST</th>\n",
       "      <th>UNIT_PRICE</th>\n",
       "      <th>QUANTITY</th>\n",
       "      <th>COST</th>\n",
       "      <th>PROFIT</th>\n",
       "      <th>COUNTRIES</th>\n",
       "      <th>REGION</th>\n",
       "      <th>MONTHS</th>\n",
       "      <th>YEARS</th>\n",
       "    </tr>\n",
       "  </thead>\n",
       "  <tbody>\n",
       "  </tbody>\n",
       "</table>\n",
       "</div>"
      ],
      "text/plain": [
       "Empty DataFrame\n",
       "Columns: [SALES_ID, SALES_REP, EMAILS, BRANDS, PLANT_COST, UNIT_PRICE, QUANTITY, COST, PROFIT, COUNTRIES, REGION , MONTHS, YEARS]\n",
       "Index: []"
      ]
     },
     "execution_count": 7,
     "metadata": {},
     "output_type": "execute_result"
    }
   ],
   "source": [
    "#checking for duplicates\n",
    "df[df.duplicated()]\n"
   ]
  },
  {
   "cell_type": "markdown",
   "id": "bbcc1407",
   "metadata": {},
   "source": [
    "The above shows that the data does not have empty rows,does not have duplicate vslues.  it also implies that the data is relatively clean"
   ]
  },
  {
   "cell_type": "code",
   "execution_count": 8,
   "id": "4c58f5de",
   "metadata": {},
   "outputs": [],
   "source": [
    "# 1. Within the space of the last three years, what was the profit worth of the breweries,\n",
    "#inclusive of the anglophone and the francophone territories?\n"
   ]
  },
  {
   "cell_type": "code",
   "execution_count": 9,
   "id": "2f506cd5",
   "metadata": {},
   "outputs": [
    {
     "data": {
      "text/plain": [
       "array([2019, 2018, 2017], dtype=int64)"
      ]
     },
     "execution_count": 9,
     "metadata": {},
     "output_type": "execute_result"
    }
   ],
   "source": [
    "#check the number of unique years in the dataframe\n",
    "df[\"YEARS\"].unique()"
   ]
  },
  {
   "cell_type": "code",
   "execution_count": 55,
   "id": "0c17cec6",
   "metadata": {},
   "outputs": [
    {
     "data": {
      "text/plain": [
       "YEARS\n",
       "2017    38503320\n",
       "2018    37063850\n",
       "2019    30020250\n",
       "Name: PROFIT, dtype: int64"
      ]
     },
     "execution_count": 55,
     "metadata": {},
     "output_type": "execute_result"
    }
   ],
   "source": [
    "df.groupby(\"YEARS\")[\"PROFIT\"].sum()"
   ]
  },
  {
   "cell_type": "code",
   "execution_count": 53,
   "id": "7918ef06",
   "metadata": {},
   "outputs": [
    {
     "data": {
      "text/plain": [
       "105587420"
      ]
     },
     "execution_count": 53,
     "metadata": {},
     "output_type": "execute_result"
    }
   ],
   "source": [
    "#the profit for 3year is the total profit of the brewery\n",
    "df[\"PROFIT\"].sum()"
   ]
  },
  {
   "cell_type": "code",
   "execution_count": 11,
   "id": "aec51a75",
   "metadata": {},
   "outputs": [],
   "source": [
    "#2. Compare the total profit between these two territories in order for the territory manager, \n",
    "#Mr. Stone made a strategic decision that will aid profit maximization in 2020"
   ]
  },
  {
   "cell_type": "code",
   "execution_count": 12,
   "id": "de71c692",
   "metadata": {},
   "outputs": [
    {
     "data": {
      "text/plain": [
       "array(['Ghana', 'Nigeria', 'Togo', 'Benin', 'Senegal'], dtype=object)"
      ]
     },
     "execution_count": 12,
     "metadata": {},
     "output_type": "execute_result"
    }
   ],
   "source": [
    "df[\"COUNTRIES\"].unique()"
   ]
  },
  {
   "cell_type": "code",
   "execution_count": 63,
   "id": "836670fe",
   "metadata": {},
   "outputs": [],
   "source": [
    "#creating Anglo_territory column \n",
    "df[\"ANGLO_TERRITORY\"]= df[\"COUNTRIES\"].all() == \"Nigeria\" or df[\"COUNTRIES\"].all() == 'Ghana'\n",
    "\n"
   ]
  },
  {
   "cell_type": "code",
   "execution_count": 64,
   "id": "145e8750",
   "metadata": {},
   "outputs": [
    {
     "data": {
      "text/html": [
       "<div>\n",
       "<style scoped>\n",
       "    .dataframe tbody tr th:only-of-type {\n",
       "        vertical-align: middle;\n",
       "    }\n",
       "\n",
       "    .dataframe tbody tr th {\n",
       "        vertical-align: top;\n",
       "    }\n",
       "\n",
       "    .dataframe thead th {\n",
       "        text-align: right;\n",
       "    }\n",
       "</style>\n",
       "<table border=\"1\" class=\"dataframe\">\n",
       "  <thead>\n",
       "    <tr style=\"text-align: right;\">\n",
       "      <th></th>\n",
       "      <th>SALES_ID</th>\n",
       "      <th>SALES_REP</th>\n",
       "      <th>EMAILS</th>\n",
       "      <th>BRANDS</th>\n",
       "      <th>PLANT_COST</th>\n",
       "      <th>UNIT_PRICE</th>\n",
       "      <th>QUANTITY</th>\n",
       "      <th>COST</th>\n",
       "      <th>PROFIT</th>\n",
       "      <th>COUNTRIES</th>\n",
       "      <th>REGION</th>\n",
       "      <th>MONTHS</th>\n",
       "      <th>YEARS</th>\n",
       "      <th>ANGLO_TERRITORY</th>\n",
       "      <th>FRANCO_TERRITORY</th>\n",
       "    </tr>\n",
       "  </thead>\n",
       "  <tbody>\n",
       "    <tr>\n",
       "      <th>0</th>\n",
       "      <td>10101</td>\n",
       "      <td>Jardine</td>\n",
       "      <td>jard@gmail.com</td>\n",
       "      <td>trophy</td>\n",
       "      <td>150</td>\n",
       "      <td>200</td>\n",
       "      <td>725</td>\n",
       "      <td>145000</td>\n",
       "      <td>36250</td>\n",
       "      <td>Ghana</td>\n",
       "      <td>Southeast</td>\n",
       "      <td>January</td>\n",
       "      <td>2019</td>\n",
       "      <td>True</td>\n",
       "      <td>True</td>\n",
       "    </tr>\n",
       "    <tr>\n",
       "      <th>1</th>\n",
       "      <td>10102</td>\n",
       "      <td>Gill</td>\n",
       "      <td>gillhell@uk.com</td>\n",
       "      <td>budweiser</td>\n",
       "      <td>250</td>\n",
       "      <td>500</td>\n",
       "      <td>815</td>\n",
       "      <td>407500</td>\n",
       "      <td>203750</td>\n",
       "      <td>Nigeria</td>\n",
       "      <td>west</td>\n",
       "      <td>February</td>\n",
       "      <td>2018</td>\n",
       "      <td>True</td>\n",
       "      <td>True</td>\n",
       "    </tr>\n",
       "    <tr>\n",
       "      <th>2</th>\n",
       "      <td>10103</td>\n",
       "      <td>Sorvino</td>\n",
       "      <td>sorvi2000@gmail.com</td>\n",
       "      <td>castle lite</td>\n",
       "      <td>180</td>\n",
       "      <td>450</td>\n",
       "      <td>937</td>\n",
       "      <td>421650</td>\n",
       "      <td>252990</td>\n",
       "      <td>Togo</td>\n",
       "      <td>southsouth</td>\n",
       "      <td>March</td>\n",
       "      <td>2018</td>\n",
       "      <td>True</td>\n",
       "      <td>True</td>\n",
       "    </tr>\n",
       "    <tr>\n",
       "      <th>3</th>\n",
       "      <td>10104</td>\n",
       "      <td>Jones</td>\n",
       "      <td>jone.ai@yahoo.com</td>\n",
       "      <td>eagle lager</td>\n",
       "      <td>170</td>\n",
       "      <td>250</td>\n",
       "      <td>765</td>\n",
       "      <td>191250</td>\n",
       "      <td>61200</td>\n",
       "      <td>Benin</td>\n",
       "      <td>northwest</td>\n",
       "      <td>April</td>\n",
       "      <td>2018</td>\n",
       "      <td>True</td>\n",
       "      <td>True</td>\n",
       "    </tr>\n",
       "    <tr>\n",
       "      <th>4</th>\n",
       "      <td>10105</td>\n",
       "      <td>Andrews</td>\n",
       "      <td>andy@gmail.com</td>\n",
       "      <td>hero</td>\n",
       "      <td>150</td>\n",
       "      <td>200</td>\n",
       "      <td>836</td>\n",
       "      <td>167200</td>\n",
       "      <td>41800</td>\n",
       "      <td>Senegal</td>\n",
       "      <td>northeast</td>\n",
       "      <td>May</td>\n",
       "      <td>2017</td>\n",
       "      <td>True</td>\n",
       "      <td>True</td>\n",
       "    </tr>\n",
       "  </tbody>\n",
       "</table>\n",
       "</div>"
      ],
      "text/plain": [
       "   SALES_ID SALES_REP               EMAILS       BRANDS  PLANT_COST  \\\n",
       "0     10101   Jardine       jard@gmail.com       trophy         150   \n",
       "1     10102      Gill      gillhell@uk.com    budweiser         250   \n",
       "2     10103   Sorvino  sorvi2000@gmail.com  castle lite         180   \n",
       "3     10104     Jones    jone.ai@yahoo.com  eagle lager         170   \n",
       "4     10105   Andrews       andy@gmail.com         hero         150   \n",
       "\n",
       "   UNIT_PRICE  QUANTITY    COST  PROFIT COUNTRIES     REGION     MONTHS  \\\n",
       "0         200       725  145000   36250     Ghana   Southeast   January   \n",
       "1         500       815  407500  203750   Nigeria        west  February   \n",
       "2         450       937  421650  252990      Togo  southsouth     March   \n",
       "3         250       765  191250   61200     Benin   northwest     April   \n",
       "4         200       836  167200   41800   Senegal  northeast        May   \n",
       "\n",
       "   YEARS  ANGLO_TERRITORY  FRANCO_TERRITORY  \n",
       "0   2019             True              True  \n",
       "1   2018             True              True  \n",
       "2   2018             True              True  \n",
       "3   2018             True              True  \n",
       "4   2017             True              True  "
      ]
     },
     "execution_count": 64,
     "metadata": {},
     "output_type": "execute_result"
    }
   ],
   "source": [
    "#creating the francophone Territory column\n",
    "df[\"FRANCO_TERRITORY\"]= df[\"COUNTRIES\"].all() != \"Nigeria\" or df[\"COUNTRIES\"].all() != 'Ghana'\n",
    "df.head()"
   ]
  },
  {
   "cell_type": "code",
   "execution_count": 34,
   "id": "040ca3c2",
   "metadata": {},
   "outputs": [
    {
     "data": {
      "text/plain": [
       "PROFIT\n",
       "35000     1\n",
       "35050     1\n",
       "35100     1\n",
       "35200     2\n",
       "35250     1\n",
       "         ..\n",
       "266760    1\n",
       "267030    2\n",
       "267840    1\n",
       "268650    1\n",
       "269190    2\n",
       "Name: ANGLO_TERRITORY, Length: 762, dtype: int64"
      ]
     },
     "execution_count": 34,
     "metadata": {},
     "output_type": "execute_result"
    }
   ],
   "source": [
    "#Compare the total profit between these two territories\n",
    "df.groupby([\"PROFIT\"])[\"ANGLO_TERRITORY\"].sum()"
   ]
  },
  {
   "cell_type": "code",
   "execution_count": null,
   "id": "90fff277",
   "metadata": {},
   "outputs": [],
   "source": []
  },
  {
   "cell_type": "code",
   "execution_count": 47,
   "id": "459b97d7",
   "metadata": {},
   "outputs": [
    {
     "data": {
      "text/plain": [
       "COUNTRIES  YEARS\n",
       "Benin      2017     268650\n",
       "           2018     265680\n",
       "           2019     255690\n",
       "Ghana      2017     263790\n",
       "           2018     253530\n",
       "           2019     269190\n",
       "Nigeria    2017     267030\n",
       "           2018     266760\n",
       "           2019     250290\n",
       "Senegal    2017     260010\n",
       "           2018     267840\n",
       "           2019     269190\n",
       "Togo       2017     249500\n",
       "           2018     266490\n",
       "           2019     261360\n",
       "Name: PROFIT, dtype: int64"
      ]
     },
     "execution_count": 47,
     "metadata": {},
     "output_type": "execute_result"
    }
   ],
   "source": [
    "#3. Country that generated the highest profit in 2019     \n",
    "df.groupby([\"COUNTRIES\", \"YEARS\"])[\"PROFIT\"].max()                         #**how do include the year 2019 ALONE"
   ]
  },
  {
   "cell_type": "code",
   "execution_count": 48,
   "id": "bed06cc4",
   "metadata": {},
   "outputs": [
    {
     "data": {
      "text/plain": [
       "YEARS\n",
       "2017    268650\n",
       "2018    267840\n",
       "2019    269190\n",
       "Name: PROFIT, dtype: int64"
      ]
     },
     "execution_count": 48,
     "metadata": {},
     "output_type": "execute_result"
    }
   ],
   "source": [
    "#4. Help him find the year with the highest profit.\n",
    "df.groupby([\"YEARS\"])[\"PROFIT\"].max()"
   ]
  },
  {
   "cell_type": "code",
   "execution_count": 39,
   "id": "af0b15f5",
   "metadata": {},
   "outputs": [
    {
     "data": {
      "text/plain": [
       "MONTHS\n",
       "April        35100\n",
       "August       35200\n",
       "December     35000\n",
       "February     35050\n",
       "January      36250\n",
       "July         36550\n",
       "June         35200\n",
       "March        35750\n",
       "May          35800\n",
       "November     35450\n",
       "October      35450\n",
       "September    35500\n",
       "Name: PROFIT, dtype: int64"
      ]
     },
     "execution_count": 39,
     "metadata": {},
     "output_type": "execute_result"
    }
   ],
   "source": [
    "#5. Which month in the three years was the least profit generated?\n",
    "df.groupby([\"MONTHS\"])[\"PROFIT\"].min()"
   ]
  },
  {
   "cell_type": "code",
   "execution_count": 65,
   "id": "36b3729f",
   "metadata": {},
   "outputs": [
    {
     "data": {
      "text/plain": [
       "MONTHS     YEARS\n",
       "April      2017     36200\n",
       "           2018     35100\n",
       "           2019     36550\n",
       "August     2017     36400\n",
       "           2018     37500\n",
       "           2019     35200\n",
       "December   2017     35000\n",
       "           2018     38150\n",
       "           2019     35300\n",
       "February   2017     35050\n",
       "           2018     35350\n",
       "           2019     35300\n",
       "January    2017     40650\n",
       "           2018     36950\n",
       "           2019     36250\n",
       "July       2017     36900\n",
       "           2018     36550\n",
       "           2019     39350\n",
       "June       2017     35200\n",
       "           2018     35250\n",
       "           2019     35300\n",
       "March      2017     40850\n",
       "           2018     35750\n",
       "           2019     38500\n",
       "May        2017     36350\n",
       "           2018     35800\n",
       "           2019     41400\n",
       "November   2017     38850\n",
       "           2018     38750\n",
       "           2019     35450\n",
       "October    2017     35450\n",
       "           2018     37850\n",
       "           2019     38650\n",
       "September  2017     41750\n",
       "           2018     37100\n",
       "           2019     35500\n",
       "Name: PROFIT, dtype: int64"
      ]
     },
     "execution_count": 65,
     "metadata": {},
     "output_type": "execute_result"
    }
   ],
   "source": [
    "#6 What was the minimum profit in the month of December 2018?\n",
    "df.groupby([\"MONTHS\",\"YEARS\"])[\"PROFIT\"].min()                             #**how do include  December 2018  ALONE"
   ]
  },
  {
   "cell_type": "code",
   "execution_count": 79,
   "id": "778ceb13",
   "metadata": {},
   "outputs": [
    {
     "data": {
      "text/plain": [
       "0       25.0\n",
       "1       50.0\n",
       "2       60.0\n",
       "3       32.0\n",
       "4       25.0\n",
       "        ... \n",
       "1042    40.0\n",
       "1043    25.0\n",
       "1044    50.0\n",
       "1045    60.0\n",
       "1046    32.0\n",
       "Name: PERCENT_PROFIT, Length: 1047, dtype: float64"
      ]
     },
     "execution_count": 79,
     "metadata": {},
     "output_type": "execute_result"
    }
   ],
   "source": [
    "#7. Compare the profit in percentage for each of the month in 2019\n",
    "df[\"PERCENT_PROFIT\"] = (df[\"PROFIT\"] / df[\"COST\"])*100\n",
    "\n",
    "\n",
    "df[\"PERCENT_PROFIT\"]"
   ]
  },
  {
   "cell_type": "code",
   "execution_count": 88,
   "id": "8271485c",
   "metadata": {},
   "outputs": [
    {
     "data": {
      "text/plain": [
       "YEARS\n",
       "2017    15119.000000\n",
       "2018    14360.666667\n",
       "2019    12208.666667\n",
       "Name: PERCENT_PROFIT, dtype: float64"
      ]
     },
     "execution_count": 88,
     "metadata": {},
     "output_type": "execute_result"
    }
   ],
   "source": [
    "df.groupby(\"YEARS\")[\"PERCENT_PROFIT\"].sum()"
   ]
  },
  {
   "cell_type": "code",
   "execution_count": 69,
   "id": "9d7d14d8",
   "metadata": {},
   "outputs": [
    {
     "data": {
      "text/plain": [
       "COUNTRIES  BRANDS     \n",
       "Benin      beta malt       67480\n",
       "           budweiser      249750\n",
       "           castle lite    268650\n",
       "           eagle lager     79680\n",
       "           grand malt      57360\n",
       "           hero            49950\n",
       "           trophy          50000\n",
       "Ghana      beta malt       69650\n",
       "           budweiser      248750\n",
       "           castle lite    269190\n",
       "           eagle lager     79600\n",
       "           grand malt      58920\n",
       "           hero            49950\n",
       "           trophy          49600\n",
       "Nigeria    beta malt       69720\n",
       "           budweiser      249500\n",
       "           castle lite    267030\n",
       "           eagle lager     79760\n",
       "           grand malt      59760\n",
       "           hero            50000\n",
       "           trophy          49450\n",
       "Senegal    beta malt       69720\n",
       "           budweiser      249500\n",
       "           castle lite    269190\n",
       "           eagle lager     79280\n",
       "           grand malt      59520\n",
       "           hero            49950\n",
       "           trophy          49750\n",
       "Togo       beta malt       69790\n",
       "           budweiser      249500\n",
       "           castle lite    266490\n",
       "           eagle lager     79440\n",
       "           grand malt      59460\n",
       "           hero            50000\n",
       "           trophy          49650\n",
       "Name: PROFIT, dtype: int64"
      ]
     },
     "execution_count": 69,
     "metadata": {},
     "output_type": "execute_result"
    }
   ],
   "source": [
    "#8. Which particular brand generated the highest profit in Senegal?\n",
    "df.groupby([\"COUNTRIES\",\"BRANDS\"])[\"PROFIT\"].max()"
   ]
  },
  {
   "cell_type": "markdown",
   "id": "eff46c69",
   "metadata": {},
   "source": [
    "Session B\n",
    "BRAND ANALYSIS\n",
    "1. Within the last two years, the brand manager wants to know the top three brands\n",
    "consumed in the francophone countries\n",
    "2. Find out the top two choice of consumer brands in Ghana\n",
    "3. Find out the details of beers consumed in the past three years in the most oil reached\n",
    "country in West Africa.\n",
    "4. Favorites malt brand in Anglophone region between 2018 and 2019\n",
    "5. Which brands sold the highest in 2019 in Nigeria?\n",
    "6. Favorites brand in South_South region in Nigeria\n",
    "7. Bear consumption in Nigeria\n",
    "8. Level of consumption of Budweiser in the regions in Nigeria\n",
    "9. Level of consumption of Budweiser in the regions in Nigeria in 2019 (Decision on Promo"
   ]
  },
  {
   "cell_type": "code",
   "execution_count": 94,
   "id": "eea269e3",
   "metadata": {},
   "outputs": [
    {
     "data": {
      "text/plain": [
       "YEARS  BRANDS     \n",
       "2017   beta malt      57\n",
       "       budweiser      56\n",
       "       castle lite    55\n",
       "       eagle lager    57\n",
       "       grand malt     54\n",
       "       hero           48\n",
       "       trophy         47\n",
       "2018   beta malt      52\n",
       "       budweiser      54\n",
       "       castle lite    55\n",
       "       eagle lager    47\n",
       "       grand malt     42\n",
       "       hero           53\n",
       "       trophy         57\n",
       "2019   beta malt      40\n",
       "       budweiser      40\n",
       "       castle lite    40\n",
       "       eagle lager    46\n",
       "       grand malt     53\n",
       "       hero           48\n",
       "       trophy         46\n",
       "Name: FRANCO_TERRITORY, dtype: int64"
      ]
     },
     "execution_count": 94,
     "metadata": {},
     "output_type": "execute_result"
    }
   ],
   "source": [
    "#Within the last two years, the brand manager wants to know the top three brands consumed in the francophone countries\n",
    "df.groupby([\"YEARS\",\"BRANDS\"])[\"FRANCO_TERRITORY\"].count()"
   ]
  },
  {
   "cell_type": "code",
   "execution_count": 99,
   "id": "9972efff",
   "metadata": {},
   "outputs": [],
   "source": [
    "#2. Find out the top two choice of consumer brands in Ghana\n"
   ]
  },
  {
   "cell_type": "code",
   "execution_count": null,
   "id": "d867358a",
   "metadata": {},
   "outputs": [],
   "source": [
    "#3. Find out the details of beers consumed in the past three years in the most oil reached country in West Africa\n"
   ]
  }
 ],
 "metadata": {
  "kernelspec": {
   "display_name": "Python 3",
   "language": "python",
   "name": "python3"
  },
  "language_info": {
   "codemirror_mode": {
    "name": "ipython",
    "version": 3
   },
   "file_extension": ".py",
   "mimetype": "text/x-python",
   "name": "python",
   "nbconvert_exporter": "python",
   "pygments_lexer": "ipython3",
   "version": "3.8.8"
  }
 },
 "nbformat": 4,
 "nbformat_minor": 5
}
