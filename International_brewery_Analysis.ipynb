{
 "cells": [
  {
   "cell_type": "markdown",
   "id": "6e2f876f",
   "metadata": {},
   "source": [
    "From the international breweries data recorded for a duration of three years, you are\n",
    "directed to do the following analyses to aid better decision making in order to maximize\n",
    "profit and reduce loss to the lowest minimum.\n",
    "Session A\n",
    "\n",
    "PROFIT ANALYSIS\n",
    "\n",
    "1. Within the space of the last three years, what was the profit worth of the breweries,\n",
    "inclusive of the anglophone and the francophone territories?\n",
    "2. Compare the total profit between these two territories in order for the territory manager,\n",
    "Mr. Stone made a strategic decision that will aid profit maximization in 2020.\n",
    "3. Country that generated the highest profit in 2019\n",
    "4. Help him find the year with the highest profit.\n",
    "5. Which month in the three years was the least profit generated?\n",
    "6. What was the minimum profit in the month of December 2018?\n",
    "7. Compare the profit in percentage for each of the month in 2019\n",
    "8. Which particular brand generated the highest profit in Senegal?"
   ]
  },
  {
   "cell_type": "code",
   "execution_count": 1,
   "id": "80945662",
   "metadata": {},
   "outputs": [],
   "source": [
    "#using inline plot\n",
    "%matplotlib inline\n",
    "\n",
    "#importing libraries for the analysis\n",
    "import pandas as pd\n",
    "import numpy as np\n",
    "import matplotlib.pyplot as plt"
   ]
  },
  {
   "cell_type": "code",
   "execution_count": 2,
   "id": "abaa143c",
   "metadata": {
    "scrolled": true
   },
   "outputs": [],
   "source": [
    "#reading the data from a csv file\n",
    "df = pd.read_csv(\"C:\\\\Users\\\\ASUS\\\\Documents\\\\data_bank\\\\Brewery_data\\\\International_Breweries.csv\")"
   ]
  },
  {
   "cell_type": "code",
   "execution_count": 3,
   "id": "a79759a1",
   "metadata": {},
   "outputs": [
    {
     "data": {
      "text/html": [
       "<div>\n",
       "<style scoped>\n",
       "    .dataframe tbody tr th:only-of-type {\n",
       "        vertical-align: middle;\n",
       "    }\n",
       "\n",
       "    .dataframe tbody tr th {\n",
       "        vertical-align: top;\n",
       "    }\n",
       "\n",
       "    .dataframe thead th {\n",
       "        text-align: right;\n",
       "    }\n",
       "</style>\n",
       "<table border=\"1\" class=\"dataframe\">\n",
       "  <thead>\n",
       "    <tr style=\"text-align: right;\">\n",
       "      <th></th>\n",
       "      <th>SALES_ID</th>\n",
       "      <th>SALES_REP</th>\n",
       "      <th>EMAILS</th>\n",
       "      <th>BRANDS</th>\n",
       "      <th>PLANT_COST</th>\n",
       "      <th>UNIT_PRICE</th>\n",
       "      <th>QUANTITY</th>\n",
       "      <th>COST</th>\n",
       "      <th>PROFIT</th>\n",
       "      <th>COUNTRIES</th>\n",
       "      <th>REGION</th>\n",
       "      <th>MONTHS</th>\n",
       "      <th>YEARS</th>\n",
       "    </tr>\n",
       "  </thead>\n",
       "  <tbody>\n",
       "    <tr>\n",
       "      <th>0</th>\n",
       "      <td>10101</td>\n",
       "      <td>Jardine</td>\n",
       "      <td>jard@gmail.com</td>\n",
       "      <td>trophy</td>\n",
       "      <td>150</td>\n",
       "      <td>200</td>\n",
       "      <td>725</td>\n",
       "      <td>145000</td>\n",
       "      <td>36250</td>\n",
       "      <td>Ghana</td>\n",
       "      <td>Southeast</td>\n",
       "      <td>January</td>\n",
       "      <td>2019</td>\n",
       "    </tr>\n",
       "    <tr>\n",
       "      <th>1</th>\n",
       "      <td>10102</td>\n",
       "      <td>Gill</td>\n",
       "      <td>gillhell@uk.com</td>\n",
       "      <td>budweiser</td>\n",
       "      <td>250</td>\n",
       "      <td>500</td>\n",
       "      <td>815</td>\n",
       "      <td>407500</td>\n",
       "      <td>203750</td>\n",
       "      <td>Nigeria</td>\n",
       "      <td>west</td>\n",
       "      <td>February</td>\n",
       "      <td>2018</td>\n",
       "    </tr>\n",
       "    <tr>\n",
       "      <th>2</th>\n",
       "      <td>10103</td>\n",
       "      <td>Sorvino</td>\n",
       "      <td>sorvi2000@gmail.com</td>\n",
       "      <td>castle lite</td>\n",
       "      <td>180</td>\n",
       "      <td>450</td>\n",
       "      <td>937</td>\n",
       "      <td>421650</td>\n",
       "      <td>252990</td>\n",
       "      <td>Togo</td>\n",
       "      <td>southsouth</td>\n",
       "      <td>March</td>\n",
       "      <td>2018</td>\n",
       "    </tr>\n",
       "    <tr>\n",
       "      <th>3</th>\n",
       "      <td>10104</td>\n",
       "      <td>Jones</td>\n",
       "      <td>jone.ai@yahoo.com</td>\n",
       "      <td>eagle lager</td>\n",
       "      <td>170</td>\n",
       "      <td>250</td>\n",
       "      <td>765</td>\n",
       "      <td>191250</td>\n",
       "      <td>61200</td>\n",
       "      <td>Benin</td>\n",
       "      <td>northwest</td>\n",
       "      <td>April</td>\n",
       "      <td>2018</td>\n",
       "    </tr>\n",
       "    <tr>\n",
       "      <th>4</th>\n",
       "      <td>10105</td>\n",
       "      <td>Andrews</td>\n",
       "      <td>andy@gmail.com</td>\n",
       "      <td>hero</td>\n",
       "      <td>150</td>\n",
       "      <td>200</td>\n",
       "      <td>836</td>\n",
       "      <td>167200</td>\n",
       "      <td>41800</td>\n",
       "      <td>Senegal</td>\n",
       "      <td>northeast</td>\n",
       "      <td>May</td>\n",
       "      <td>2017</td>\n",
       "    </tr>\n",
       "    <tr>\n",
       "      <th>...</th>\n",
       "      <td>...</td>\n",
       "      <td>...</td>\n",
       "      <td>...</td>\n",
       "      <td>...</td>\n",
       "      <td>...</td>\n",
       "      <td>...</td>\n",
       "      <td>...</td>\n",
       "      <td>...</td>\n",
       "      <td>...</td>\n",
       "      <td>...</td>\n",
       "      <td>...</td>\n",
       "      <td>...</td>\n",
       "      <td>...</td>\n",
       "    </tr>\n",
       "    <tr>\n",
       "      <th>1042</th>\n",
       "      <td>11143</td>\n",
       "      <td>Jardine</td>\n",
       "      <td>jard@gmail.com</td>\n",
       "      <td>grand malt</td>\n",
       "      <td>90</td>\n",
       "      <td>150</td>\n",
       "      <td>962</td>\n",
       "      <td>144300</td>\n",
       "      <td>57720</td>\n",
       "      <td>Togo</td>\n",
       "      <td>northeast</td>\n",
       "      <td>November</td>\n",
       "      <td>2017</td>\n",
       "    </tr>\n",
       "    <tr>\n",
       "      <th>1043</th>\n",
       "      <td>11144</td>\n",
       "      <td>Jardine</td>\n",
       "      <td>jard@gmail.com</td>\n",
       "      <td>trophy</td>\n",
       "      <td>150</td>\n",
       "      <td>200</td>\n",
       "      <td>892</td>\n",
       "      <td>178400</td>\n",
       "      <td>44600</td>\n",
       "      <td>Benin</td>\n",
       "      <td>northcentral</td>\n",
       "      <td>December</td>\n",
       "      <td>2017</td>\n",
       "    </tr>\n",
       "    <tr>\n",
       "      <th>1044</th>\n",
       "      <td>11145</td>\n",
       "      <td>Andrews</td>\n",
       "      <td>andy@gmail.com</td>\n",
       "      <td>budweiser</td>\n",
       "      <td>250</td>\n",
       "      <td>500</td>\n",
       "      <td>816</td>\n",
       "      <td>408000</td>\n",
       "      <td>204000</td>\n",
       "      <td>Senegal</td>\n",
       "      <td>Southeast</td>\n",
       "      <td>January</td>\n",
       "      <td>2019</td>\n",
       "    </tr>\n",
       "    <tr>\n",
       "      <th>1045</th>\n",
       "      <td>11146</td>\n",
       "      <td>Jones</td>\n",
       "      <td>jone.ai@yahoo.com</td>\n",
       "      <td>castle lite</td>\n",
       "      <td>180</td>\n",
       "      <td>450</td>\n",
       "      <td>939</td>\n",
       "      <td>422550</td>\n",
       "      <td>253530</td>\n",
       "      <td>Ghana</td>\n",
       "      <td>west</td>\n",
       "      <td>February</td>\n",
       "      <td>2017</td>\n",
       "    </tr>\n",
       "    <tr>\n",
       "      <th>1046</th>\n",
       "      <td>11147</td>\n",
       "      <td>Morgan</td>\n",
       "      <td>morganny@gmail.com</td>\n",
       "      <td>eagle lager</td>\n",
       "      <td>170</td>\n",
       "      <td>250</td>\n",
       "      <td>935</td>\n",
       "      <td>233750</td>\n",
       "      <td>74800</td>\n",
       "      <td>Nigeria</td>\n",
       "      <td>southsouth</td>\n",
       "      <td>March</td>\n",
       "      <td>2019</td>\n",
       "    </tr>\n",
       "  </tbody>\n",
       "</table>\n",
       "<p>1047 rows × 13 columns</p>\n",
       "</div>"
      ],
      "text/plain": [
       "      SALES_ID SALES_REP               EMAILS       BRANDS  PLANT_COST  \\\n",
       "0        10101   Jardine       jard@gmail.com       trophy         150   \n",
       "1        10102      Gill      gillhell@uk.com    budweiser         250   \n",
       "2        10103   Sorvino  sorvi2000@gmail.com  castle lite         180   \n",
       "3        10104     Jones    jone.ai@yahoo.com  eagle lager         170   \n",
       "4        10105   Andrews       andy@gmail.com         hero         150   \n",
       "...        ...       ...                  ...          ...         ...   \n",
       "1042     11143   Jardine       jard@gmail.com   grand malt          90   \n",
       "1043     11144   Jardine       jard@gmail.com       trophy         150   \n",
       "1044     11145   Andrews       andy@gmail.com    budweiser         250   \n",
       "1045     11146     Jones    jone.ai@yahoo.com  castle lite         180   \n",
       "1046     11147    Morgan   morganny@gmail.com  eagle lager         170   \n",
       "\n",
       "      UNIT_PRICE  QUANTITY    COST  PROFIT COUNTRIES        REGION     MONTHS  \\\n",
       "0            200       725  145000   36250     Ghana      Southeast   January   \n",
       "1            500       815  407500  203750   Nigeria           west  February   \n",
       "2            450       937  421650  252990      Togo     southsouth     March   \n",
       "3            250       765  191250   61200     Benin      northwest     April   \n",
       "4            200       836  167200   41800   Senegal     northeast        May   \n",
       "...          ...       ...     ...     ...       ...            ...       ...   \n",
       "1042         150       962  144300   57720      Togo     northeast   November   \n",
       "1043         200       892  178400   44600     Benin  northcentral   December   \n",
       "1044         500       816  408000  204000   Senegal      Southeast   January   \n",
       "1045         450       939  422550  253530     Ghana           west  February   \n",
       "1046         250       935  233750   74800   Nigeria     southsouth     March   \n",
       "\n",
       "      YEARS  \n",
       "0      2019  \n",
       "1      2018  \n",
       "2      2018  \n",
       "3      2018  \n",
       "4      2017  \n",
       "...     ...  \n",
       "1042   2017  \n",
       "1043   2017  \n",
       "1044   2019  \n",
       "1045   2017  \n",
       "1046   2019  \n",
       "\n",
       "[1047 rows x 13 columns]"
      ]
     },
     "execution_count": 3,
     "metadata": {},
     "output_type": "execute_result"
    }
   ],
   "source": [
    "#display the data frame\n",
    "df"
   ]
  },
  {
   "cell_type": "code",
   "execution_count": 4,
   "id": "5d16e3bd",
   "metadata": {},
   "outputs": [
    {
     "name": "stdout",
     "output_type": "stream",
     "text": [
      "<class 'pandas.core.frame.DataFrame'>\n",
      "RangeIndex: 1047 entries, 0 to 1046\n",
      "Data columns (total 13 columns):\n",
      " #   Column      Non-Null Count  Dtype \n",
      "---  ------      --------------  ----- \n",
      " 0   SALES_ID    1047 non-null   int64 \n",
      " 1   SALES_REP   1047 non-null   object\n",
      " 2   EMAILS      1047 non-null   object\n",
      " 3   BRANDS      1047 non-null   object\n",
      " 4   PLANT_COST  1047 non-null   int64 \n",
      " 5   UNIT_PRICE  1047 non-null   int64 \n",
      " 6   QUANTITY    1047 non-null   int64 \n",
      " 7   COST        1047 non-null   int64 \n",
      " 8   PROFIT      1047 non-null   int64 \n",
      " 9   COUNTRIES   1047 non-null   object\n",
      " 10  REGION      1047 non-null   object\n",
      " 11  MONTHS      1047 non-null   object\n",
      " 12  YEARS       1047 non-null   int64 \n",
      "dtypes: int64(7), object(6)\n",
      "memory usage: 106.5+ KB\n"
     ]
    }
   ],
   "source": [
    "#display information about the data\n",
    "df.info()"
   ]
  },
  {
   "cell_type": "code",
   "execution_count": 5,
   "id": "5d6ec547",
   "metadata": {},
   "outputs": [
    {
     "data": {
      "text/html": [
       "<div>\n",
       "<style scoped>\n",
       "    .dataframe tbody tr th:only-of-type {\n",
       "        vertical-align: middle;\n",
       "    }\n",
       "\n",
       "    .dataframe tbody tr th {\n",
       "        vertical-align: top;\n",
       "    }\n",
       "\n",
       "    .dataframe thead th {\n",
       "        text-align: right;\n",
       "    }\n",
       "</style>\n",
       "<table border=\"1\" class=\"dataframe\">\n",
       "  <thead>\n",
       "    <tr style=\"text-align: right;\">\n",
       "      <th></th>\n",
       "      <th>SALES_ID</th>\n",
       "      <th>PLANT_COST</th>\n",
       "      <th>UNIT_PRICE</th>\n",
       "      <th>QUANTITY</th>\n",
       "      <th>COST</th>\n",
       "      <th>PROFIT</th>\n",
       "      <th>YEARS</th>\n",
       "    </tr>\n",
       "  </thead>\n",
       "  <tbody>\n",
       "    <tr>\n",
       "      <th>count</th>\n",
       "      <td>1047.000000</td>\n",
       "      <td>1047.000000</td>\n",
       "      <td>1047.000000</td>\n",
       "      <td>1047.000000</td>\n",
       "      <td>1047.000000</td>\n",
       "      <td>1047.000000</td>\n",
       "      <td>1047.000000</td>\n",
       "    </tr>\n",
       "    <tr>\n",
       "      <th>mean</th>\n",
       "      <td>10624.000000</td>\n",
       "      <td>152.989494</td>\n",
       "      <td>271.728749</td>\n",
       "      <td>850.737345</td>\n",
       "      <td>231034.049666</td>\n",
       "      <td>100847.583572</td>\n",
       "      <td>2017.941738</td>\n",
       "    </tr>\n",
       "    <tr>\n",
       "      <th>std</th>\n",
       "      <td>302.387169</td>\n",
       "      <td>53.125477</td>\n",
       "      <td>133.378553</td>\n",
       "      <td>86.991652</td>\n",
       "      <td>115658.626612</td>\n",
       "      <td>77581.775930</td>\n",
       "      <td>0.808325</td>\n",
       "    </tr>\n",
       "    <tr>\n",
       "      <th>min</th>\n",
       "      <td>10101.000000</td>\n",
       "      <td>80.000000</td>\n",
       "      <td>150.000000</td>\n",
       "      <td>700.000000</td>\n",
       "      <td>105300.000000</td>\n",
       "      <td>35000.000000</td>\n",
       "      <td>2017.000000</td>\n",
       "    </tr>\n",
       "    <tr>\n",
       "      <th>25%</th>\n",
       "      <td>10362.500000</td>\n",
       "      <td>90.000000</td>\n",
       "      <td>150.000000</td>\n",
       "      <td>776.000000</td>\n",
       "      <td>141425.000000</td>\n",
       "      <td>46880.000000</td>\n",
       "      <td>2017.000000</td>\n",
       "    </tr>\n",
       "    <tr>\n",
       "      <th>50%</th>\n",
       "      <td>10624.000000</td>\n",
       "      <td>150.000000</td>\n",
       "      <td>200.000000</td>\n",
       "      <td>853.000000</td>\n",
       "      <td>184400.000000</td>\n",
       "      <td>58080.000000</td>\n",
       "      <td>2018.000000</td>\n",
       "    </tr>\n",
       "    <tr>\n",
       "      <th>75%</th>\n",
       "      <td>10885.500000</td>\n",
       "      <td>180.000000</td>\n",
       "      <td>450.000000</td>\n",
       "      <td>927.000000</td>\n",
       "      <td>351450.000000</td>\n",
       "      <td>191205.000000</td>\n",
       "      <td>2019.000000</td>\n",
       "    </tr>\n",
       "    <tr>\n",
       "      <th>max</th>\n",
       "      <td>11147.000000</td>\n",
       "      <td>250.000000</td>\n",
       "      <td>500.000000</td>\n",
       "      <td>1000.000000</td>\n",
       "      <td>499500.000000</td>\n",
       "      <td>269190.000000</td>\n",
       "      <td>2019.000000</td>\n",
       "    </tr>\n",
       "  </tbody>\n",
       "</table>\n",
       "</div>"
      ],
      "text/plain": [
       "           SALES_ID   PLANT_COST   UNIT_PRICE     QUANTITY           COST  \\\n",
       "count   1047.000000  1047.000000  1047.000000  1047.000000    1047.000000   \n",
       "mean   10624.000000   152.989494   271.728749   850.737345  231034.049666   \n",
       "std      302.387169    53.125477   133.378553    86.991652  115658.626612   \n",
       "min    10101.000000    80.000000   150.000000   700.000000  105300.000000   \n",
       "25%    10362.500000    90.000000   150.000000   776.000000  141425.000000   \n",
       "50%    10624.000000   150.000000   200.000000   853.000000  184400.000000   \n",
       "75%    10885.500000   180.000000   450.000000   927.000000  351450.000000   \n",
       "max    11147.000000   250.000000   500.000000  1000.000000  499500.000000   \n",
       "\n",
       "              PROFIT        YEARS  \n",
       "count    1047.000000  1047.000000  \n",
       "mean   100847.583572  2017.941738  \n",
       "std     77581.775930     0.808325  \n",
       "min     35000.000000  2017.000000  \n",
       "25%     46880.000000  2017.000000  \n",
       "50%     58080.000000  2018.000000  \n",
       "75%    191205.000000  2019.000000  \n",
       "max    269190.000000  2019.000000  "
      ]
     },
     "execution_count": 5,
     "metadata": {},
     "output_type": "execute_result"
    }
   ],
   "source": [
    "#get some of the measures of central tendencies and dispersions\n",
    "df.describe()"
   ]
  },
  {
   "cell_type": "code",
   "execution_count": 6,
   "id": "8fd090ff",
   "metadata": {},
   "outputs": [
    {
     "data": {
      "text/plain": [
       "SALES_ID      0\n",
       "SALES_REP     0\n",
       "EMAILS        0\n",
       "BRANDS        0\n",
       "PLANT_COST    0\n",
       "UNIT_PRICE    0\n",
       "QUANTITY      0\n",
       "COST          0\n",
       "PROFIT        0\n",
       "COUNTRIES     0\n",
       "REGION        0\n",
       "MONTHS        0\n",
       "YEARS         0\n",
       "dtype: int64"
      ]
     },
     "execution_count": 6,
     "metadata": {},
     "output_type": "execute_result"
    }
   ],
   "source": [
    "#check if there are null values/empty rows\n",
    "df.isnull().sum()"
   ]
  },
  {
   "cell_type": "code",
   "execution_count": 7,
   "id": "e5a253dc",
   "metadata": {},
   "outputs": [
    {
     "data": {
      "text/html": [
       "<div>\n",
       "<style scoped>\n",
       "    .dataframe tbody tr th:only-of-type {\n",
       "        vertical-align: middle;\n",
       "    }\n",
       "\n",
       "    .dataframe tbody tr th {\n",
       "        vertical-align: top;\n",
       "    }\n",
       "\n",
       "    .dataframe thead th {\n",
       "        text-align: right;\n",
       "    }\n",
       "</style>\n",
       "<table border=\"1\" class=\"dataframe\">\n",
       "  <thead>\n",
       "    <tr style=\"text-align: right;\">\n",
       "      <th></th>\n",
       "      <th>SALES_ID</th>\n",
       "      <th>SALES_REP</th>\n",
       "      <th>EMAILS</th>\n",
       "      <th>BRANDS</th>\n",
       "      <th>PLANT_COST</th>\n",
       "      <th>UNIT_PRICE</th>\n",
       "      <th>QUANTITY</th>\n",
       "      <th>COST</th>\n",
       "      <th>PROFIT</th>\n",
       "      <th>COUNTRIES</th>\n",
       "      <th>REGION</th>\n",
       "      <th>MONTHS</th>\n",
       "      <th>YEARS</th>\n",
       "    </tr>\n",
       "  </thead>\n",
       "  <tbody>\n",
       "  </tbody>\n",
       "</table>\n",
       "</div>"
      ],
      "text/plain": [
       "Empty DataFrame\n",
       "Columns: [SALES_ID, SALES_REP, EMAILS, BRANDS, PLANT_COST, UNIT_PRICE, QUANTITY, COST, PROFIT, COUNTRIES, REGION , MONTHS, YEARS]\n",
       "Index: []"
      ]
     },
     "execution_count": 7,
     "metadata": {},
     "output_type": "execute_result"
    }
   ],
   "source": [
    "#checking for duplicates\n",
    "df[df.duplicated()]\n"
   ]
  },
  {
   "cell_type": "markdown",
   "id": "bbcc1407",
   "metadata": {},
   "source": [
    "The above shows that the data does not have empty rows,does not have duplicate vslues.  it also implies that the data is relatively clean"
   ]
  },
  {
   "cell_type": "code",
   "execution_count": 8,
   "id": "4c58f5de",
   "metadata": {},
   "outputs": [
    {
     "data": {
      "text/plain": [
       "YEARS  COUNTRIES\n",
       "2017   Benin        7795390\n",
       "       Ghana        7176000\n",
       "       Nigeria      8573550\n",
       "       Senegal      8289100\n",
       "       Togo         6669280\n",
       "2018   Benin        7893240\n",
       "       Ghana        6692980\n",
       "       Nigeria      7997340\n",
       "       Senegal      6508530\n",
       "       Togo         7971760\n",
       "2019   Benin        5273340\n",
       "       Ghana        7144070\n",
       "       Nigeria      4805320\n",
       "       Senegal      6687560\n",
       "       Togo         6109960\n",
       "Name: PROFIT, dtype: int64"
      ]
     },
     "execution_count": 8,
     "metadata": {},
     "output_type": "execute_result"
    }
   ],
   "source": [
    "# 1. Within the space of the last three years, what was the profit worth of the breweries,\n",
    "#inclusive of the anglophone and the francophone territories?\n",
    "prof_worth= df.groupby([\"YEARS\",\"COUNTRIES\"])[\"PROFIT\"].sum()\n",
    "prof_worth"
   ]
  },
  {
   "cell_type": "code",
   "execution_count": 9,
   "id": "87686594",
   "metadata": {},
   "outputs": [
    {
     "data": {
      "image/png": "[encoded data removed]",
      "text/plain": [
       "<Figure size 432x288 with 1 Axes>"
      ]
     },
     "metadata": {
      "needs_background": "light"
     },
     "output_type": "display_data"
    }
   ],
   "source": [
    "#plot the chart\n",
    "prof_worth.plot(kind='barh')\n",
    "plt.xlabel(\"Profit made (in $1000,000)\")\n",
    "plt.ylabel(\"Years/Countries\")\n",
    "plt.show()"
   ]
  },
  {
   "cell_type": "code",
   "execution_count": 10,
   "id": "2f506cd5",
   "metadata": {},
   "outputs": [
    {
     "data": {
      "text/plain": [
       "array([2019, 2018, 2017], dtype=int64)"
      ]
     },
     "execution_count": 10,
     "metadata": {},
     "output_type": "execute_result"
    }
   ],
   "source": [
    "#check the number of unique years in the dataframe\n",
    "df[\"YEARS\"].unique()"
   ]
  },
  {
   "cell_type": "code",
   "execution_count": 11,
   "id": "0c17cec6",
   "metadata": {},
   "outputs": [
    {
     "data": {
      "text/plain": [
       "YEARS\n",
       "2017    38503320\n",
       "2018    37063850\n",
       "2019    30020250\n",
       "Name: PROFIT, dtype: int64"
      ]
     },
     "execution_count": 11,
     "metadata": {},
     "output_type": "execute_result"
    }
   ],
   "source": [
    "#a breakdown of profits by the years (2017, 2018,2019)\n",
    "prof_by_year= df.groupby(\"YEARS\")[\"PROFIT\"].sum()\n",
    "prof_by_year"
   ]
  },
  {
   "cell_type": "code",
   "execution_count": 12,
   "id": "431c9a7a",
   "metadata": {},
   "outputs": [
    {
     "data": {
      "text/plain": [
       "Text(0, 0.5, 'Profit in ($1000,000)')"
      ]
     },
     "execution_count": 12,
     "metadata": {},
     "output_type": "execute_result"
    },
    {
     "data": {
      "image/png": "[encoded data removed]",
      "text/plain": [
       "<Figure size 432x288 with 1 Axes>"
      ]
     },
     "metadata": {
      "needs_background": "light"
     },
     "output_type": "display_data"
    }
   ],
   "source": [
    "#plotthe chart\n",
    "prof_by_year.plot(kind=\"bar\")\n",
    "plt.xticks(rotation=45)\n",
    "plt.title(\"Profit by Years\")\n",
    "plt.xlabel(\"Years\")\n",
    "plt.ylabel(\"Profit in ($1000,000)\")"
   ]
  },
  {
   "cell_type": "code",
   "execution_count": 13,
   "id": "7918ef06",
   "metadata": {},
   "outputs": [
    {
     "data": {
      "text/plain": [
       "105587420"
      ]
     },
     "execution_count": 13,
     "metadata": {},
     "output_type": "execute_result"
    }
   ],
   "source": [
    "#the profit for 3year is the total profit of the brewery\n",
    "df[\"PROFIT\"].sum()"
   ]
  },
  {
   "cell_type": "markdown",
   "id": "c3afd53d",
   "metadata": {},
   "source": [
    "\n",
    "## the breakdown of the profits by there years is given \n",
    "## in 2017 profit  was 38503320 USD, in 2018 profit  was  37063850USD  and in 2019 it was 30020250USD and also the  total profits within  the three years running is 105587420USD"
   ]
  },
  {
   "cell_type": "code",
   "execution_count": 14,
   "id": "aec51a75",
   "metadata": {},
   "outputs": [],
   "source": [
    "#2. Compare the total profit between these two territories in order for the territory manager, \n",
    "#Mr. Stone made a strategic decision that will aid profit maximization in 2020"
   ]
  },
  {
   "cell_type": "code",
   "execution_count": 15,
   "id": "de71c692",
   "metadata": {},
   "outputs": [
    {
     "data": {
      "text/plain": [
       "array(['Ghana', 'Nigeria', 'Togo', 'Benin', 'Senegal'], dtype=object)"
      ]
     },
     "execution_count": 15,
     "metadata": {},
     "output_type": "execute_result"
    }
   ],
   "source": [
    "df[\"COUNTRIES\"].unique()"
   ]
  },
  {
   "cell_type": "code",
   "execution_count": 16,
   "id": "836670fe",
   "metadata": {},
   "outputs": [],
   "source": [
    "#creating Anglo_territory column \n",
    "df[\"ANGLO_TERRITORY\"]= df[\"COUNTRIES\"].all() == \"Nigeria\" or df[\"COUNTRIES\"].all() == 'Ghana'\n",
    "\n"
   ]
  },
  {
   "cell_type": "code",
   "execution_count": 17,
   "id": "145e8750",
   "metadata": {},
   "outputs": [
    {
     "data": {
      "text/html": [
       "<div>\n",
       "<style scoped>\n",
       "    .dataframe tbody tr th:only-of-type {\n",
       "        vertical-align: middle;\n",
       "    }\n",
       "\n",
       "    .dataframe tbody tr th {\n",
       "        vertical-align: top;\n",
       "    }\n",
       "\n",
       "    .dataframe thead th {\n",
       "        text-align: right;\n",
       "    }\n",
       "</style>\n",
       "<table border=\"1\" class=\"dataframe\">\n",
       "  <thead>\n",
       "    <tr style=\"text-align: right;\">\n",
       "      <th></th>\n",
       "      <th>SALES_ID</th>\n",
       "      <th>SALES_REP</th>\n",
       "      <th>EMAILS</th>\n",
       "      <th>BRANDS</th>\n",
       "      <th>PLANT_COST</th>\n",
       "      <th>UNIT_PRICE</th>\n",
       "      <th>QUANTITY</th>\n",
       "      <th>COST</th>\n",
       "      <th>PROFIT</th>\n",
       "      <th>COUNTRIES</th>\n",
       "      <th>REGION</th>\n",
       "      <th>MONTHS</th>\n",
       "      <th>YEARS</th>\n",
       "      <th>ANGLO_TERRITORY</th>\n",
       "      <th>FRANCO_TERRITORY</th>\n",
       "    </tr>\n",
       "  </thead>\n",
       "  <tbody>\n",
       "    <tr>\n",
       "      <th>0</th>\n",
       "      <td>10101</td>\n",
       "      <td>Jardine</td>\n",
       "      <td>jard@gmail.com</td>\n",
       "      <td>trophy</td>\n",
       "      <td>150</td>\n",
       "      <td>200</td>\n",
       "      <td>725</td>\n",
       "      <td>145000</td>\n",
       "      <td>36250</td>\n",
       "      <td>Ghana</td>\n",
       "      <td>Southeast</td>\n",
       "      <td>January</td>\n",
       "      <td>2019</td>\n",
       "      <td>True</td>\n",
       "      <td>True</td>\n",
       "    </tr>\n",
       "    <tr>\n",
       "      <th>1</th>\n",
       "      <td>10102</td>\n",
       "      <td>Gill</td>\n",
       "      <td>gillhell@uk.com</td>\n",
       "      <td>budweiser</td>\n",
       "      <td>250</td>\n",
       "      <td>500</td>\n",
       "      <td>815</td>\n",
       "      <td>407500</td>\n",
       "      <td>203750</td>\n",
       "      <td>Nigeria</td>\n",
       "      <td>west</td>\n",
       "      <td>February</td>\n",
       "      <td>2018</td>\n",
       "      <td>True</td>\n",
       "      <td>True</td>\n",
       "    </tr>\n",
       "    <tr>\n",
       "      <th>2</th>\n",
       "      <td>10103</td>\n",
       "      <td>Sorvino</td>\n",
       "      <td>sorvi2000@gmail.com</td>\n",
       "      <td>castle lite</td>\n",
       "      <td>180</td>\n",
       "      <td>450</td>\n",
       "      <td>937</td>\n",
       "      <td>421650</td>\n",
       "      <td>252990</td>\n",
       "      <td>Togo</td>\n",
       "      <td>southsouth</td>\n",
       "      <td>March</td>\n",
       "      <td>2018</td>\n",
       "      <td>True</td>\n",
       "      <td>True</td>\n",
       "    </tr>\n",
       "    <tr>\n",
       "      <th>3</th>\n",
       "      <td>10104</td>\n",
       "      <td>Jones</td>\n",
       "      <td>jone.ai@yahoo.com</td>\n",
       "      <td>eagle lager</td>\n",
       "      <td>170</td>\n",
       "      <td>250</td>\n",
       "      <td>765</td>\n",
       "      <td>191250</td>\n",
       "      <td>61200</td>\n",
       "      <td>Benin</td>\n",
       "      <td>northwest</td>\n",
       "      <td>April</td>\n",
       "      <td>2018</td>\n",
       "      <td>True</td>\n",
       "      <td>True</td>\n",
       "    </tr>\n",
       "    <tr>\n",
       "      <th>4</th>\n",
       "      <td>10105</td>\n",
       "      <td>Andrews</td>\n",
       "      <td>andy@gmail.com</td>\n",
       "      <td>hero</td>\n",
       "      <td>150</td>\n",
       "      <td>200</td>\n",
       "      <td>836</td>\n",
       "      <td>167200</td>\n",
       "      <td>41800</td>\n",
       "      <td>Senegal</td>\n",
       "      <td>northeast</td>\n",
       "      <td>May</td>\n",
       "      <td>2017</td>\n",
       "      <td>True</td>\n",
       "      <td>True</td>\n",
       "    </tr>\n",
       "  </tbody>\n",
       "</table>\n",
       "</div>"
      ],
      "text/plain": [
       "   SALES_ID SALES_REP               EMAILS       BRANDS  PLANT_COST  \\\n",
       "0     10101   Jardine       jard@gmail.com       trophy         150   \n",
       "1     10102      Gill      gillhell@uk.com    budweiser         250   \n",
       "2     10103   Sorvino  sorvi2000@gmail.com  castle lite         180   \n",
       "3     10104     Jones    jone.ai@yahoo.com  eagle lager         170   \n",
       "4     10105   Andrews       andy@gmail.com         hero         150   \n",
       "\n",
       "   UNIT_PRICE  QUANTITY    COST  PROFIT COUNTRIES     REGION     MONTHS  \\\n",
       "0         200       725  145000   36250     Ghana   Southeast   January   \n",
       "1         500       815  407500  203750   Nigeria        west  February   \n",
       "2         450       937  421650  252990      Togo  southsouth     March   \n",
       "3         250       765  191250   61200     Benin   northwest     April   \n",
       "4         200       836  167200   41800   Senegal  northeast        May   \n",
       "\n",
       "   YEARS  ANGLO_TERRITORY  FRANCO_TERRITORY  \n",
       "0   2019             True              True  \n",
       "1   2018             True              True  \n",
       "2   2018             True              True  \n",
       "3   2018             True              True  \n",
       "4   2017             True              True  "
      ]
     },
     "execution_count": 17,
     "metadata": {},
     "output_type": "execute_result"
    }
   ],
   "source": [
    "#creating the francophone Territory column\n",
    "df[\"FRANCO_TERRITORY\"]= df[\"COUNTRIES\"].all() != \"Nigeria\" or df[\"COUNTRIES\"].all() != 'Ghana'\n",
    "df.head()"
   ]
  },
  {
   "cell_type": "code",
   "execution_count": 18,
   "id": "040ca3c2",
   "metadata": {},
   "outputs": [
    {
     "data": {
      "text/plain": [
       "PROFIT\n",
       "35000     1\n",
       "35050     1\n",
       "35100     1\n",
       "35200     2\n",
       "35250     1\n",
       "         ..\n",
       "266760    1\n",
       "267030    2\n",
       "267840    1\n",
       "268650    1\n",
       "269190    2\n",
       "Name: ANGLO_TERRITORY, Length: 762, dtype: int64"
      ]
     },
     "execution_count": 18,
     "metadata": {},
     "output_type": "execute_result"
    }
   ],
   "source": [
    "#Compare the total profit between these two territories\n",
    "df.groupby([\"PROFIT\"])[\"ANGLO_TERRITORY\"].sum()"
   ]
  },
  {
   "cell_type": "code",
   "execution_count": 19,
   "id": "459b97d7",
   "metadata": {},
   "outputs": [
    {
     "data": {
      "text/plain": [
       "COUNTRIES\n",
       "Nigeria    250290\n",
       "Benin      255690\n",
       "Togo       261360\n",
       "Ghana      269190\n",
       "Senegal    269190\n",
       "Name: PROFIT, dtype: int64"
      ]
     },
     "execution_count": 19,
     "metadata": {},
     "output_type": "execute_result"
    }
   ],
   "source": [
    "#3. Country that generated the highest profit in 2019   \n",
    "df_yr2019 = df[df[\"YEARS\"]==2019]\n",
    "\n",
    "high_prof_2019= df_yr2019.groupby([\"COUNTRIES\"])[\"PROFIT\"].max().sort_values()\n",
    "high_prof_2019"
   ]
  },
  {
   "cell_type": "code",
   "execution_count": 20,
   "id": "e03fe05e",
   "metadata": {},
   "outputs": [
    {
     "data": {
      "text/plain": [
       "Text(0, 0.5, 'PROFIT ($)')"
      ]
     },
     "execution_count": 20,
     "metadata": {},
     "output_type": "execute_result"
    },
    {
     "data": {
      "image/png": "[encoded data removed]",
      "text/plain": [
       "<Figure size 432x288 with 1 Axes>"
      ]
     },
     "metadata": {
      "needs_background": "light"
     },
     "output_type": "display_data"
    }
   ],
   "source": [
    "#plot the chart\n",
    "high_prof_2019.plot(kind=\"line\")\n",
    "plt.title(\"Country that generated the highest profit in 2019 \")\n",
    "plt.ylabel(\"PROFIT ($)\")"
   ]
  },
  {
   "cell_type": "markdown",
   "id": "c8288eb5",
   "metadata": {},
   "source": [
    "## from the output above it is clear that SENEGAL and GHANA have the highest profit in 2019,which is 269190USD for both countries"
   ]
  },
  {
   "cell_type": "code",
   "execution_count": 21,
   "id": "90fff277",
   "metadata": {},
   "outputs": [
    {
     "data": {
      "text/html": [
       "<div>\n",
       "<style scoped>\n",
       "    .dataframe tbody tr th:only-of-type {\n",
       "        vertical-align: middle;\n",
       "    }\n",
       "\n",
       "    .dataframe tbody tr th {\n",
       "        vertical-align: top;\n",
       "    }\n",
       "\n",
       "    .dataframe thead th {\n",
       "        text-align: right;\n",
       "    }\n",
       "</style>\n",
       "<table border=\"1\" class=\"dataframe\">\n",
       "  <thead>\n",
       "    <tr style=\"text-align: right;\">\n",
       "      <th></th>\n",
       "      <th>SALES_ID</th>\n",
       "      <th>PLANT_COST</th>\n",
       "      <th>UNIT_PRICE</th>\n",
       "      <th>QUANTITY</th>\n",
       "      <th>COST</th>\n",
       "      <th>PROFIT</th>\n",
       "      <th>YEARS</th>\n",
       "      <th>ANGLO_TERRITORY</th>\n",
       "      <th>FRANCO_TERRITORY</th>\n",
       "    </tr>\n",
       "  </thead>\n",
       "  <tbody>\n",
       "    <tr>\n",
       "      <th>SALES_ID</th>\n",
       "      <td>1.000000</td>\n",
       "      <td>-0.000577</td>\n",
       "      <td>0.000001</td>\n",
       "      <td>0.056496</td>\n",
       "      <td>0.009204</td>\n",
       "      <td>0.006283</td>\n",
       "      <td>-0.000814</td>\n",
       "      <td>NaN</td>\n",
       "      <td>NaN</td>\n",
       "    </tr>\n",
       "    <tr>\n",
       "      <th>PLANT_COST</th>\n",
       "      <td>-0.000577</td>\n",
       "      <td>1.000000</td>\n",
       "      <td>0.879548</td>\n",
       "      <td>0.007059</td>\n",
       "      <td>0.857338</td>\n",
       "      <td>0.699682</td>\n",
       "      <td>-0.018648</td>\n",
       "      <td>NaN</td>\n",
       "      <td>NaN</td>\n",
       "    </tr>\n",
       "    <tr>\n",
       "      <th>UNIT_PRICE</th>\n",
       "      <td>0.000001</td>\n",
       "      <td>0.879548</td>\n",
       "      <td>1.000000</td>\n",
       "      <td>-0.011710</td>\n",
       "      <td>0.974369</td>\n",
       "      <td>0.946370</td>\n",
       "      <td>-0.033914</td>\n",
       "      <td>NaN</td>\n",
       "      <td>NaN</td>\n",
       "    </tr>\n",
       "    <tr>\n",
       "      <th>QUANTITY</th>\n",
       "      <td>0.056496</td>\n",
       "      <td>0.007059</td>\n",
       "      <td>-0.011710</td>\n",
       "      <td>1.000000</td>\n",
       "      <td>0.190842</td>\n",
       "      <td>0.108184</td>\n",
       "      <td>0.028306</td>\n",
       "      <td>NaN</td>\n",
       "      <td>NaN</td>\n",
       "    </tr>\n",
       "    <tr>\n",
       "      <th>COST</th>\n",
       "      <td>0.009204</td>\n",
       "      <td>0.857338</td>\n",
       "      <td>0.974369</td>\n",
       "      <td>0.190842</td>\n",
       "      <td>1.000000</td>\n",
       "      <td>0.957478</td>\n",
       "      <td>-0.027228</td>\n",
       "      <td>NaN</td>\n",
       "      <td>NaN</td>\n",
       "    </tr>\n",
       "    <tr>\n",
       "      <th>PROFIT</th>\n",
       "      <td>0.006283</td>\n",
       "      <td>0.699682</td>\n",
       "      <td>0.946370</td>\n",
       "      <td>0.108184</td>\n",
       "      <td>0.957478</td>\n",
       "      <td>1.000000</td>\n",
       "      <td>-0.035541</td>\n",
       "      <td>NaN</td>\n",
       "      <td>NaN</td>\n",
       "    </tr>\n",
       "    <tr>\n",
       "      <th>YEARS</th>\n",
       "      <td>-0.000814</td>\n",
       "      <td>-0.018648</td>\n",
       "      <td>-0.033914</td>\n",
       "      <td>0.028306</td>\n",
       "      <td>-0.027228</td>\n",
       "      <td>-0.035541</td>\n",
       "      <td>1.000000</td>\n",
       "      <td>NaN</td>\n",
       "      <td>NaN</td>\n",
       "    </tr>\n",
       "    <tr>\n",
       "      <th>ANGLO_TERRITORY</th>\n",
       "      <td>NaN</td>\n",
       "      <td>NaN</td>\n",
       "      <td>NaN</td>\n",
       "      <td>NaN</td>\n",
       "      <td>NaN</td>\n",
       "      <td>NaN</td>\n",
       "      <td>NaN</td>\n",
       "      <td>NaN</td>\n",
       "      <td>NaN</td>\n",
       "    </tr>\n",
       "    <tr>\n",
       "      <th>FRANCO_TERRITORY</th>\n",
       "      <td>NaN</td>\n",
       "      <td>NaN</td>\n",
       "      <td>NaN</td>\n",
       "      <td>NaN</td>\n",
       "      <td>NaN</td>\n",
       "      <td>NaN</td>\n",
       "      <td>NaN</td>\n",
       "      <td>NaN</td>\n",
       "      <td>NaN</td>\n",
       "    </tr>\n",
       "  </tbody>\n",
       "</table>\n",
       "</div>"
      ],
      "text/plain": [
       "                  SALES_ID  PLANT_COST  UNIT_PRICE  QUANTITY      COST  \\\n",
       "SALES_ID          1.000000   -0.000577    0.000001  0.056496  0.009204   \n",
       "PLANT_COST       -0.000577    1.000000    0.879548  0.007059  0.857338   \n",
       "UNIT_PRICE        0.000001    0.879548    1.000000 -0.011710  0.974369   \n",
       "QUANTITY          0.056496    0.007059   -0.011710  1.000000  0.190842   \n",
       "COST              0.009204    0.857338    0.974369  0.190842  1.000000   \n",
       "PROFIT            0.006283    0.699682    0.946370  0.108184  0.957478   \n",
       "YEARS            -0.000814   -0.018648   -0.033914  0.028306 -0.027228   \n",
       "ANGLO_TERRITORY        NaN         NaN         NaN       NaN       NaN   \n",
       "FRANCO_TERRITORY       NaN         NaN         NaN       NaN       NaN   \n",
       "\n",
       "                    PROFIT     YEARS  ANGLO_TERRITORY  FRANCO_TERRITORY  \n",
       "SALES_ID          0.006283 -0.000814              NaN               NaN  \n",
       "PLANT_COST        0.699682 -0.018648              NaN               NaN  \n",
       "UNIT_PRICE        0.946370 -0.033914              NaN               NaN  \n",
       "QUANTITY          0.108184  0.028306              NaN               NaN  \n",
       "COST              0.957478 -0.027228              NaN               NaN  \n",
       "PROFIT            1.000000 -0.035541              NaN               NaN  \n",
       "YEARS            -0.035541  1.000000              NaN               NaN  \n",
       "ANGLO_TERRITORY        NaN       NaN              NaN               NaN  \n",
       "FRANCO_TERRITORY       NaN       NaN              NaN               NaN  "
      ]
     },
     "execution_count": 21,
     "metadata": {},
     "output_type": "execute_result"
    }
   ],
   "source": [
    "correl= df.corr()\n",
    "correl"
   ]
  },
  {
   "cell_type": "code",
   "execution_count": 22,
   "id": "042f374d",
   "metadata": {},
   "outputs": [
    {
     "data": {
      "text/plain": [
       "(array([1, 2, 3, 4, 5, 6, 7, 8, 9]),\n",
       " [Text(1, 0, 'SALES_ID'),\n",
       "  Text(2, 0, 'PLANT_COST'),\n",
       "  Text(3, 0, 'UNIT_PRICE'),\n",
       "  Text(4, 0, 'QUANTITY'),\n",
       "  Text(5, 0, 'COST'),\n",
       "  Text(6, 0, 'PROFIT'),\n",
       "  Text(7, 0, 'YEARS'),\n",
       "  Text(8, 0, 'ANGLO_TERRITORY'),\n",
       "  Text(9, 0, 'FRANCO_TERRITORY')])"
      ]
     },
     "execution_count": 22,
     "metadata": {},
     "output_type": "execute_result"
    },
    {
     "data": {
      "image/png": "[encoded data removed]",
      "text/plain": [
       "<Figure size 432x288 with 1 Axes>"
      ]
     },
     "metadata": {
      "needs_background": "light"
     },
     "output_type": "display_data"
    }
   ],
   "source": [
    "correl.plot(kind=\"box\")\n",
    "plt.xticks(rotation=90)"
   ]
  },
  {
   "cell_type": "code",
   "execution_count": 23,
   "id": "bed06cc4",
   "metadata": {},
   "outputs": [
    {
     "data": {
      "text/plain": [
       "YEARS\n",
       "2017    268650\n",
       "2018    267840\n",
       "2019    269190\n",
       "Name: PROFIT, dtype: int64"
      ]
     },
     "execution_count": 23,
     "metadata": {},
     "output_type": "execute_result"
    }
   ],
   "source": [
    "#4. Help him find the year with the highest profit.\n",
    "yr_with_hgst_prof = df.groupby([\"YEARS\"])[\"PROFIT\"].max()\n",
    "yr_with_hgst_prof"
   ]
  },
  {
   "cell_type": "code",
   "execution_count": 24,
   "id": "de6bb151",
   "metadata": {},
   "outputs": [
    {
     "data": {
      "image/png": "[encoded data removed]",
      "text/plain": [
       "<Figure size 432x288 with 1 Axes>"
      ]
     },
     "metadata": {
      "needs_background": "light"
     },
     "output_type": "display_data"
    }
   ],
   "source": [
    "yr_with_hgst_prof.plot(kind=\"bar\")\n",
    "plt.title(\"the year with the highest profit\")\n",
    "plt.xticks(rotation=45)\n",
    "plt.ylabel(\"PROFIT\")\n",
    "plt.show()"
   ]
  },
  {
   "cell_type": "markdown",
   "id": "260e8df3",
   "metadata": {},
   "source": [
    "## 4. The output above shows that the year with the highest profit is year 2019 which have a profit of 269190USD "
   ]
  },
  {
   "cell_type": "code",
   "execution_count": 25,
   "id": "af0b15f5",
   "metadata": {},
   "outputs": [
    {
     "data": {
      "text/plain": [
       "YEARS  MONTHS   \n",
       "2017   December     35000\n",
       "       February     35050\n",
       "2018   April        35100\n",
       "2017   June         35200\n",
       "2019   August       35200\n",
       "2018   June         35250\n",
       "2019   June         35300\n",
       "       February     35300\n",
       "       December     35300\n",
       "2018   February     35350\n",
       "2019   November     35450\n",
       "2017   October      35450\n",
       "2019   September    35500\n",
       "2018   March        35750\n",
       "       May          35800\n",
       "2017   April        36200\n",
       "2019   January      36250\n",
       "2017   May          36350\n",
       "       August       36400\n",
       "2019   April        36550\n",
       "2018   July         36550\n",
       "2017   July         36900\n",
       "2018   January      36950\n",
       "       September    37100\n",
       "       August       37500\n",
       "       October      37850\n",
       "       December     38150\n",
       "2019   March        38500\n",
       "       October      38650\n",
       "2018   November     38750\n",
       "2017   November     38850\n",
       "2019   July         39350\n",
       "2017   January      40650\n",
       "       March        40850\n",
       "2019   May          41400\n",
       "2017   September    41750\n",
       "Name: PROFIT, dtype: int64"
      ]
     },
     "execution_count": 25,
     "metadata": {},
     "output_type": "execute_result"
    }
   ],
   "source": [
    "#5. Which month in the three years was the least profit generated?\n",
    "\n",
    "mth_yr_least_prof = df.groupby([\"YEARS\",\"MONTHS\"])[\"PROFIT\"].min().sort_values()\n",
    "mth_yr_least_prof"
   ]
  },
  {
   "cell_type": "code",
   "execution_count": 26,
   "id": "7a3c86d5",
   "metadata": {},
   "outputs": [
    {
     "data": {
      "text/plain": [
       "Text(0, 0.5, 'PROFIT ($)')"
      ]
     },
     "execution_count": 26,
     "metadata": {},
     "output_type": "execute_result"
    },
    {
     "data": {
      "image/png": "[encoded data removed]",
      "text/plain": [
       "<Figure size 432x288 with 1 Axes>"
      ]
     },
     "metadata": {
      "needs_background": "light"
     },
     "output_type": "display_data"
    }
   ],
   "source": [
    "mth_yr_least_prof.plot(kind=\"line\")\n",
    "plt.title(\"the month with the least profit generated\")\n",
    "plt.xticks(rotation=90)\n",
    "plt.ylabel(\"PROFIT ($)\")"
   ]
  },
  {
   "cell_type": "markdown",
   "id": "ad0b11e6",
   "metadata": {},
   "source": [
    "from the illustration above , it is clear that the month with the least profit is December 2017"
   ]
  },
  {
   "cell_type": "code",
   "execution_count": 27,
   "id": "36b3729f",
   "metadata": {},
   "outputs": [
    {
     "data": {
      "text/plain": [
       "MONTHS     YEARS\n",
       "April      2018     35100\n",
       "June       2018     35250\n",
       "February   2018     35350\n",
       "March      2018     35750\n",
       "May        2018     35800\n",
       "July       2018     36550\n",
       "January    2018     36950\n",
       "September  2018     37100\n",
       "August     2018     37500\n",
       "October    2018     37850\n",
       "December   2018     38150\n",
       "November   2018     38750\n",
       "Name: PROFIT, dtype: int64"
      ]
     },
     "execution_count": 27,
     "metadata": {},
     "output_type": "execute_result"
    }
   ],
   "source": [
    "#6 What was the minimum profit in the month of December 2018?\n",
    "df_yr2018 = df[df[\"YEARS\"]==2018]\n",
    "min_prof_dec_2018= df_yr2018.groupby([\"MONTHS\",\"YEARS\"])[\"PROFIT\"].min().sort_values()\n",
    "min_prof_dec_2018"
   ]
  },
  {
   "cell_type": "code",
   "execution_count": 28,
   "id": "97dbf05a",
   "metadata": {},
   "outputs": [
    {
     "data": {
      "image/png": "[encoded data removed]",
      "text/plain": [
       "<Figure size 432x288 with 1 Axes>"
      ]
     },
     "metadata": {
      "needs_background": "light"
     },
     "output_type": "display_data"
    }
   ],
   "source": [
    "min_prof_dec_2018.plot(kind=\"line\")\n",
    "plt.title(\"the minimum profit in the month of December 2018\")\n",
    "plt.xticks(rotation=90)\n",
    "plt.ylabel(\"PROFIT\")\n",
    "plt.show()"
   ]
  },
  {
   "cell_type": "markdown",
   "id": "efc47669",
   "metadata": {},
   "source": [
    "## 6. from the above output it shows that the minimum profit for the month of April 2018"
   ]
  },
  {
   "cell_type": "code",
   "execution_count": 61,
   "id": "778ceb13",
   "metadata": {},
   "outputs": [
    {
     "data": {
      "text/html": [
       "<div>\n",
       "<style scoped>\n",
       "    .dataframe tbody tr th:only-of-type {\n",
       "        vertical-align: middle;\n",
       "    }\n",
       "\n",
       "    .dataframe tbody tr th {\n",
       "        vertical-align: top;\n",
       "    }\n",
       "\n",
       "    .dataframe thead th {\n",
       "        text-align: right;\n",
       "    }\n",
       "</style>\n",
       "<table border=\"1\" class=\"dataframe\">\n",
       "  <thead>\n",
       "    <tr style=\"text-align: right;\">\n",
       "      <th></th>\n",
       "      <th>SALES_ID</th>\n",
       "      <th>SALES_REP</th>\n",
       "      <th>EMAILS</th>\n",
       "      <th>BRANDS</th>\n",
       "      <th>PLANT_COST</th>\n",
       "      <th>UNIT_PRICE</th>\n",
       "      <th>QUANTITY</th>\n",
       "      <th>COST</th>\n",
       "      <th>PROFIT</th>\n",
       "      <th>COUNTRIES</th>\n",
       "      <th>REGION</th>\n",
       "      <th>MONTHS</th>\n",
       "      <th>YEARS</th>\n",
       "      <th>ANGLO_TERRITORY</th>\n",
       "      <th>FRANCO_TERRITORY</th>\n",
       "      <th>PERCENT_PROFIT</th>\n",
       "    </tr>\n",
       "  </thead>\n",
       "  <tbody>\n",
       "    <tr>\n",
       "      <th>0</th>\n",
       "      <td>10101</td>\n",
       "      <td>Jardine</td>\n",
       "      <td>jard@gmail.com</td>\n",
       "      <td>trophy</td>\n",
       "      <td>150</td>\n",
       "      <td>200</td>\n",
       "      <td>725</td>\n",
       "      <td>145000</td>\n",
       "      <td>36250</td>\n",
       "      <td>Ghana</td>\n",
       "      <td>Southeast</td>\n",
       "      <td>January</td>\n",
       "      <td>2019</td>\n",
       "      <td>True</td>\n",
       "      <td>True</td>\n",
       "      <td>25.0</td>\n",
       "    </tr>\n",
       "    <tr>\n",
       "      <th>1</th>\n",
       "      <td>10102</td>\n",
       "      <td>Gill</td>\n",
       "      <td>gillhell@uk.com</td>\n",
       "      <td>budweiser</td>\n",
       "      <td>250</td>\n",
       "      <td>500</td>\n",
       "      <td>815</td>\n",
       "      <td>407500</td>\n",
       "      <td>203750</td>\n",
       "      <td>Nigeria</td>\n",
       "      <td>west</td>\n",
       "      <td>February</td>\n",
       "      <td>2018</td>\n",
       "      <td>True</td>\n",
       "      <td>True</td>\n",
       "      <td>50.0</td>\n",
       "    </tr>\n",
       "    <tr>\n",
       "      <th>2</th>\n",
       "      <td>10103</td>\n",
       "      <td>Sorvino</td>\n",
       "      <td>sorvi2000@gmail.com</td>\n",
       "      <td>castle lite</td>\n",
       "      <td>180</td>\n",
       "      <td>450</td>\n",
       "      <td>937</td>\n",
       "      <td>421650</td>\n",
       "      <td>252990</td>\n",
       "      <td>Togo</td>\n",
       "      <td>southsouth</td>\n",
       "      <td>March</td>\n",
       "      <td>2018</td>\n",
       "      <td>True</td>\n",
       "      <td>True</td>\n",
       "      <td>60.0</td>\n",
       "    </tr>\n",
       "    <tr>\n",
       "      <th>3</th>\n",
       "      <td>10104</td>\n",
       "      <td>Jones</td>\n",
       "      <td>jone.ai@yahoo.com</td>\n",
       "      <td>eagle lager</td>\n",
       "      <td>170</td>\n",
       "      <td>250</td>\n",
       "      <td>765</td>\n",
       "      <td>191250</td>\n",
       "      <td>61200</td>\n",
       "      <td>Benin</td>\n",
       "      <td>northwest</td>\n",
       "      <td>April</td>\n",
       "      <td>2018</td>\n",
       "      <td>True</td>\n",
       "      <td>True</td>\n",
       "      <td>32.0</td>\n",
       "    </tr>\n",
       "    <tr>\n",
       "      <th>4</th>\n",
       "      <td>10105</td>\n",
       "      <td>Andrews</td>\n",
       "      <td>andy@gmail.com</td>\n",
       "      <td>hero</td>\n",
       "      <td>150</td>\n",
       "      <td>200</td>\n",
       "      <td>836</td>\n",
       "      <td>167200</td>\n",
       "      <td>41800</td>\n",
       "      <td>Senegal</td>\n",
       "      <td>northeast</td>\n",
       "      <td>May</td>\n",
       "      <td>2017</td>\n",
       "      <td>True</td>\n",
       "      <td>True</td>\n",
       "      <td>25.0</td>\n",
       "    </tr>\n",
       "  </tbody>\n",
       "</table>\n",
       "</div>"
      ],
      "text/plain": [
       "   SALES_ID SALES_REP               EMAILS       BRANDS  PLANT_COST  \\\n",
       "0     10101   Jardine       jard@gmail.com       trophy         150   \n",
       "1     10102      Gill      gillhell@uk.com    budweiser         250   \n",
       "2     10103   Sorvino  sorvi2000@gmail.com  castle lite         180   \n",
       "3     10104     Jones    jone.ai@yahoo.com  eagle lager         170   \n",
       "4     10105   Andrews       andy@gmail.com         hero         150   \n",
       "\n",
       "   UNIT_PRICE  QUANTITY    COST  PROFIT COUNTRIES     REGION     MONTHS  \\\n",
       "0         200       725  145000   36250     Ghana   Southeast   January   \n",
       "1         500       815  407500  203750   Nigeria        west  February   \n",
       "2         450       937  421650  252990      Togo  southsouth     March   \n",
       "3         250       765  191250   61200     Benin   northwest     April   \n",
       "4         200       836  167200   41800   Senegal  northeast        May   \n",
       "\n",
       "   YEARS  ANGLO_TERRITORY  FRANCO_TERRITORY  PERCENT_PROFIT  \n",
       "0   2019             True              True            25.0  \n",
       "1   2018             True              True            50.0  \n",
       "2   2018             True              True            60.0  \n",
       "3   2018             True              True            32.0  \n",
       "4   2017             True              True            25.0  "
      ]
     },
     "execution_count": 61,
     "metadata": {},
     "output_type": "execute_result"
    }
   ],
   "source": [
    "#7. Compare the profit in percentage for each of the month in 2019\n",
    "df[\"PERCENT_PROFIT\"] = (df[\"PROFIT\"] / df[\"COST\"])*100\n",
    "\n",
    "df.head()"
   ]
  },
  {
   "cell_type": "code",
   "execution_count": 32,
   "id": "8770f2c6",
   "metadata": {},
   "outputs": [
    {
     "data": {
      "text/plain": [
       "MONTHS\n",
       "February      648.000000\n",
       "October       855.666667\n",
       "December      869.333333\n",
       "September     942.000000\n",
       "April        1035.333333\n",
       "March        1060.666667\n",
       "August       1074.000000\n",
       "May          1091.333333\n",
       "July         1101.666667\n",
       "November     1140.333333\n",
       "June         1140.666667\n",
       "January      1249.666667\n",
       "Name: PERCENT_PROFIT, dtype: float64"
      ]
     },
     "execution_count": 32,
     "metadata": {},
     "output_type": "execute_result"
    }
   ],
   "source": [
    "df_yr2019 = df[df[\"YEARS\"]==2019]\n",
    "\n",
    "perc_prof_mth_2019= df_yr2019.groupby([\"MONTHS\"])[\"PERCENT_PROFIT\"].sum().sort_values()\n",
    "perc_prof_mth_2019"
   ]
  },
  {
   "cell_type": "code",
   "execution_count": 33,
   "id": "50573aa1",
   "metadata": {},
   "outputs": [
    {
     "data": {
      "text/plain": [
       "<AxesSubplot:xlabel='MONTHS'>"
      ]
     },
     "execution_count": 33,
     "metadata": {},
     "output_type": "execute_result"
    },
    {
     "data": {
      "image/png": "[encoded data removed]",
      "text/plain": [
       "<Figure size 432x288 with 1 Axes>"
      ]
     },
     "metadata": {
      "needs_background": "light"
     },
     "output_type": "display_data"
    }
   ],
   "source": [
    "perc_prof_mth_2019.plot(kind=\"bar\")"
   ]
  },
  {
   "cell_type": "code",
   "execution_count": null,
   "id": "8271485c",
   "metadata": {},
   "outputs": [],
   "source": [
    "#df.groupby(\"YEARS\")[\"PERCENT_PROFIT\"].sum()"
   ]
  },
  {
   "cell_type": "code",
   "execution_count": 34,
   "id": "9d7d14d8",
   "metadata": {},
   "outputs": [
    {
     "data": {
      "text/plain": [
       "BRANDS\n",
       "beta malt       69720\n",
       "budweiser      249500\n",
       "castle lite    269190\n",
       "eagle lager     79280\n",
       "grand malt      59520\n",
       "hero            49950\n",
       "trophy          49750\n",
       "Name: PROFIT, dtype: int64"
      ]
     },
     "execution_count": 34,
     "metadata": {},
     "output_type": "execute_result"
    }
   ],
   "source": [
    "#8. Which particular brand generated the highest profit in Senegal?\n",
    "\n",
    "df_sen = df[df[\"COUNTRIES\"]==\"Senegal\"]\n",
    "sen_brand_prof = df_sen.groupby([\"BRANDS\"])[\"PROFIT\"].max()\n",
    "sen_brand_prof"
   ]
  },
  {
   "cell_type": "code",
   "execution_count": 35,
   "id": "4af11492",
   "metadata": {},
   "outputs": [
    {
     "data": {
      "text/plain": [
       "Text(0, 0.5, 'BRANDS')"
      ]
     },
     "execution_count": 35,
     "metadata": {},
     "output_type": "execute_result"
    },
    {
     "data": {
      "image/png": "[encoded data removed]",
      "text/plain": [
       "<Figure size 432x288 with 1 Axes>"
      ]
     },
     "metadata": {
      "needs_background": "light"
     },
     "output_type": "display_data"
    }
   ],
   "source": [
    "sen_brand_prof.plot(kind=\"barh\")\n",
    "plt.title(\"particular brand generated the highest profit in Senegal\")\n",
    "plt.xlabel(\"PROFIT (in $)\")\n",
    "plt.ylabel(\"BRANDS\")"
   ]
  },
  {
   "cell_type": "markdown",
   "id": "a26b61ca",
   "metadata": {},
   "source": [
    "## 8. From the above output it is seen that in Senegal the brand with the highest profit is CASTLE LITE , which is 269190USD"
   ]
  },
  {
   "cell_type": "markdown",
   "id": "eff46c69",
   "metadata": {},
   "source": [
    "\n",
    "\n",
    "\n",
    "Session B\n",
    "\n",
    "\n",
    "BRAND ANALYSIS\n",
    "1. Within the last two years, the brand manager wants to know the top three brands\n",
    "consumed in the francophone countries\n",
    "2. Find out the top two choice of consumer brands in Ghana\n",
    "3. Find out the details of beers consumed in the past three years in the most oil reached\n",
    "country in West Africa.\n",
    "4. Favorites malt brand in Anglophone region between 2018 and 2019\n",
    "5. Which brands sold the highest in 2019 in Nigeria?\n",
    "6. Favorites brand in South_South region in Nigeria\n",
    "7. Bear consumption in Nigeria\n",
    "8. Level of consumption of Budweiser in the regions in Nigeria\n",
    "9. Level of consumption of Budweiser in the regions in Nigeria in 2019 (Decision on Promo"
   ]
  },
  {
   "cell_type": "code",
   "execution_count": null,
   "id": "eea269e3",
   "metadata": {},
   "outputs": [],
   "source": [
    "#Within the last two years, the brand manager wants to know the top three brands consumed in the francophone countries\n",
    "df.groupby([\"YEARS\",\"BRANDS\"])[\"FRANCO_TERRITORY\"].count()\n",
    "\n"
   ]
  },
  {
   "cell_type": "code",
   "execution_count": 42,
   "id": "9972efff",
   "metadata": {},
   "outputs": [
    {
     "data": {
      "text/plain": [
       "BRANDS\n",
       "trophy         1276200\n",
       "hero           1282700\n",
       "grand malt     1536900\n",
       "beta malt      1778560\n",
       "eagle lager    2066320\n",
       "budweiser      6104750\n",
       "castle lite    6967620\n",
       "Name: PROFIT, dtype: int64"
      ]
     },
     "execution_count": 42,
     "metadata": {},
     "output_type": "execute_result"
    }
   ],
   "source": [
    "#2. Find out the top two choice of consumer brands in Ghana\n",
    "df_gha = df[df[\"COUNTRIES\"]==\"Ghana\"]\n",
    "choic_gh_brand= df_gha.groupby([\"BRANDS\"])[\"PROFIT\"].sum().sort_values()\n",
    "choic_gh_brand"
   ]
  },
  {
   "cell_type": "code",
   "execution_count": 44,
   "id": "f6e67afa",
   "metadata": {},
   "outputs": [
    {
     "data": {
      "text/plain": [
       "Text(0, 0.5, 'PROFIT (In 1,000,000)')"
      ]
     },
     "execution_count": 44,
     "metadata": {},
     "output_type": "execute_result"
    },
    {
     "data": {
      "image/png": "[encoded data removed]",
      "text/plain": [
       "<Figure size 432x288 with 1 Axes>"
      ]
     },
     "metadata": {
      "needs_background": "light"
     },
     "output_type": "display_data"
    }
   ],
   "source": [
    "choic_gh_brand.plot(kind=\"bar\")\n",
    "plt.title(\"the top two choice of consumer brands in Ghana\")\n",
    "plt.ylabel(\"PROFIT (In 1,000,000)\")"
   ]
  },
  {
   "cell_type": "markdown",
   "id": "3ccff447",
   "metadata": {},
   "source": [
    "## 2. from the above output, thetwo major brand choice of consumers in ghana is  Castle Lite (with aprofit of 6967620USD) and Budweiser (with aprofit of 6104750USD)"
   ]
  },
  {
   "cell_type": "code",
   "execution_count": 50,
   "id": "d867358a",
   "metadata": {},
   "outputs": [
    {
     "data": {
      "text/plain": [
       "YEARS  BRANDS     \n",
       "2017   beta malt      10\n",
       "       budweiser      14\n",
       "       castle lite    11\n",
       "       eagle lager    14\n",
       "       grand malt     11\n",
       "       hero           11\n",
       "       trophy         10\n",
       "2018   beta malt      10\n",
       "       budweiser      10\n",
       "       castle lite    15\n",
       "       eagle lager     6\n",
       "       grand malt      9\n",
       "       hero            8\n",
       "       trophy         13\n",
       "2019   beta malt      10\n",
       "       budweiser       6\n",
       "       castle lite     4\n",
       "       eagle lager    10\n",
       "       grand malt     10\n",
       "       hero           11\n",
       "       trophy          7\n",
       "Name: BRANDS, dtype: int64"
      ]
     },
     "execution_count": 50,
     "metadata": {},
     "output_type": "execute_result"
    }
   ],
   "source": [
    "#3. Find out the details of beers consumed in the past three years in the most oil rich country in West Africa\n",
    "\n",
    "#n/b: the most oilrich country in west Africa is Nigeria, and \n",
    "#from profit made we can determine gainful consumption of beer brands\n",
    "df_nig = df[df[\"COUNTRIES\"]==\"Nigeria\"]\n",
    "nig_beer_cosumption = df_nig.groupby([\"YEARS\",\"BRANDS\"])[\"BRANDS\"].count()\n",
    "nig_beer_cosumption"
   ]
  },
  {
   "cell_type": "code",
   "execution_count": 54,
   "id": "e4a97216",
   "metadata": {},
   "outputs": [
    {
     "data": {
      "text/plain": [
       "Text(0.5, 1.0, 'beers consumed in the past three years in the most oil rich country in West Africa')"
      ]
     },
     "execution_count": 54,
     "metadata": {},
     "output_type": "execute_result"
    },
    {
     "data": {
      "image/png": "[encoded data removed]",
      "text/plain": [
       "<Figure size 432x288 with 1 Axes>"
      ]
     },
     "metadata": {
      "needs_background": "light"
     },
     "output_type": "display_data"
    }
   ],
   "source": [
    "#plots\n",
    "nig_beer_cosumption.plot(kind=\"line\")\n",
    "plt.xticks(rotation=90)\n",
    "plt.title(\"beers consumed in the past three years in the most oil rich country in West Africa\")"
   ]
  },
  {
   "cell_type": "markdown",
   "id": "40185bdb",
   "metadata": {},
   "source": [
    "## 3. from the above output Nigeria (which is the most oil-rich nations in west Africa) consume Budweiser, Castle Lite, Eagle Lager, Hero and Trophy.                                                (N/b Beta malt and Grand Malt are not Beer)"
   ]
  },
  {
   "cell_type": "code",
   "execution_count": null,
   "id": "4bae88f6",
   "metadata": {},
   "outputs": [],
   "source": [
    "# 4. Favorites malt brand in Anglophone region between 2018 and 2019\n"
   ]
  },
  {
   "cell_type": "code",
   "execution_count": 58,
   "id": "9fef2818",
   "metadata": {},
   "outputs": [
    {
     "data": {
      "text/plain": [
       "BRANDS\n",
       "trophy          290150\n",
       "hero            481100\n",
       "grand malt      487500\n",
       "beta malt       587230\n",
       "eagle lager     672080\n",
       "castle lite     914760\n",
       "budweiser      1372500\n",
       "Name: PROFIT, dtype: int64"
      ]
     },
     "execution_count": 58,
     "metadata": {},
     "output_type": "execute_result"
    }
   ],
   "source": [
    "# 5. Which brands sold the highest in 2019 in Nigeria?\n",
    "df_nig_yr2019= df_yr2019[df_yr2019[\"COUNTRIES\"]==\"Nigeria\"]\n",
    "nig_2019= df_nig_yr2019.groupby([\"BRANDS\"])[\"PROFIT\"].sum().sort_values()\n",
    "nig_2019"
   ]
  },
  {
   "cell_type": "code",
   "execution_count": 57,
   "id": "44a43066",
   "metadata": {},
   "outputs": [
    {
     "data": {
      "text/plain": [
       "<AxesSubplot:ylabel='PROFIT'>"
      ]
     },
     "execution_count": 57,
     "metadata": {},
     "output_type": "execute_result"
    },
    {
     "data": {
      "image/png": "[encoded data removed]",
      "text/plain": [
       "<Figure size 432x288 with 1 Axes>"
      ]
     },
     "metadata": {},
     "output_type": "display_data"
    }
   ],
   "source": [
    "nig_2019.plot(kind='pie')"
   ]
  },
  {
   "cell_type": "markdown",
   "id": "c4043500",
   "metadata": {},
   "source": [
    "## 5. The brand with the highest sales in Nigeria is Budweiser (1372500USD) "
   ]
  },
  {
   "cell_type": "code",
   "execution_count": 75,
   "id": "69505888",
   "metadata": {},
   "outputs": [],
   "source": [
    "#6. Favorites brand in South_South region  of nigeria\n",
    "\n",
    "#df for nigeria\n",
    "df_nig =df[df[\"COUNTRIES\"]=='Nigeria']\n",
    "\n",
    "#df_nig[df_nig[\"REGION\"]=='Soutsouth']"
   ]
  },
  {
   "cell_type": "code",
   "execution_count": 66,
   "id": "2b85b444",
   "metadata": {},
   "outputs": [
    {
     "data": {
      "text/plain": [
       "BRANDS\n",
       "beta malt      1776670\n",
       "budweiser      6538250\n",
       "castle lite    6933870\n",
       "eagle lager    2069760\n",
       "grand malt     1479960\n",
       "hero           1290550\n",
       "trophy         1287150\n",
       "Name: PROFIT, dtype: int64"
      ]
     },
     "execution_count": 66,
     "metadata": {},
     "output_type": "execute_result"
    }
   ],
   "source": [
    "# 7. Bear consumption in Nigeria\n",
    "\n",
    "nig_beer_intake = df_nig.groupby([\"BRANDS\"])[\"PROFIT\"].sum()\n",
    "nig_beer_intake"
   ]
  },
  {
   "cell_type": "code",
   "execution_count": 69,
   "id": "34f7954c",
   "metadata": {},
   "outputs": [
    {
     "data": {
      "image/png": "[encoded data removed]",
      "text/plain": [
       "<Figure size 432x288 with 1 Axes>"
      ]
     },
     "metadata": {
      "needs_background": "light"
     },
     "output_type": "display_data"
    }
   ],
   "source": [
    "nig_beer_intake.plot(kind=\"bar\")\n",
    "plt.title(\" Bear consumption in Nigeria\")\n",
    "plt.ylabel(\"PROFIT (in $1,000,000)\")\n",
    "plt.show()"
   ]
  },
  {
   "cell_type": "markdown",
   "id": "bd5bc054",
   "metadata": {},
   "source": [
    "Castle lite and Budwieser are two beer brand that are most consumed in Nigeria"
   ]
  },
  {
   "cell_type": "markdown",
   "id": "9000e13b",
   "metadata": {},
   "source": [
    "## 9. Level of consumption of Budweiser in the regions in Nigeria in 2019 (Decision on Promo)"
   ]
  },
  {
   "cell_type": "code",
   "execution_count": 86,
   "id": "af0cfb9f",
   "metadata": {},
   "outputs": [
    {
     "data": {
      "text/plain": [
       "BRANDS\n",
       "trophy          290150\n",
       "hero            481100\n",
       "grand malt      487500\n",
       "beta malt       587230\n",
       "eagle lager     672080\n",
       "castle lite     914760\n",
       "budweiser      1372500\n",
       "Name: PROFIT, dtype: int64"
      ]
     },
     "execution_count": 86,
     "metadata": {},
     "output_type": "execute_result"
    }
   ],
   "source": [
    "df_nig= df[df[\"COUNTRIES\"]=='Nigeria']\n",
    "df_nig_2019= df_nig[df_nig[\"YEARS\"]==2019]\n",
    "bud_cons = df_nig_2019.groupby(\"BRANDS\")[\"PROFIT\"].sum().sort_values()\n",
    "bud_cons"
   ]
  },
  {
   "cell_type": "code",
   "execution_count": 90,
   "id": "56e18dd4",
   "metadata": {},
   "outputs": [
    {
     "data": {
      "text/plain": [
       "Text(0, 0.5, 'PROFIT (in $1,000,000)')"
      ]
     },
     "execution_count": 90,
     "metadata": {},
     "output_type": "execute_result"
    },
    {
     "data": {
      "image/png": "[encoded data removed]",
      "text/plain": [
       "<Figure size 432x288 with 1 Axes>"
      ]
     },
     "metadata": {
      "needs_background": "light"
     },
     "output_type": "display_data"
    }
   ],
   "source": [
    "bud_cons.plot(kind = \"line\")\n",
    "plt.title(\"consumption of Budweiser in the regions in Nigeria in 2019\")\n",
    "plt.xticks(rotation =90)\n",
    "plt.ylabel(\"PROFIT (in $1,000,000)\")"
   ]
  },
  {
   "cell_type": "markdown",
   "id": "d116e5e0",
   "metadata": {},
   "source": [
    "the consuption of Budweiser in Nigeria in 2019,was the highest. the marketing team should continue their promo"
   ]
  },
  {
   "cell_type": "code",
   "execution_count": null,
   "id": "cc98c106",
   "metadata": {},
   "outputs": [],
   "source": []
  }
 ],
 "metadata": {
  "kernelspec": {
   "display_name": "Python 3",
   "language": "python",
   "name": "python3"
  },
  "language_info": {
   "codemirror_mode": {
    "name": "ipython",
    "version": 3
   },
   "file_extension": ".py",
   "mimetype": "text/x-python",
   "name": "python",
   "nbconvert_exporter": "python",
   "pygments_lexer": "ipython3",
   "version": "3.8.8"
  }
 },
 "nbformat": 4,
 "nbformat_minor": 5
}
